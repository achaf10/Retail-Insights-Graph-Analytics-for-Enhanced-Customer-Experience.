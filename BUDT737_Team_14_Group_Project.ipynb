{
  "nbformat": 4,
  "nbformat_minor": 0,
  "metadata": {
    "colab": {
      "provenance": []
    },
    "kernelspec": {
      "name": "python3",
      "display_name": "Python 3"
    },
    "language_info": {
      "name": "python"
    }
  },
  "cells": [
    {
      "cell_type": "code",
      "execution_count": 1,
      "metadata": {
        "colab": {
          "base_uri": "https://localhost:8080/"
        },
        "id": "e9EylVIXQ7o7",
        "outputId": "5bb21f42-7dad-44ac-962a-c81c56e03652"
      },
      "outputs": [
        {
          "output_type": "stream",
          "name": "stdout",
          "text": [
            "\u001b[2K     \u001b[90m━━━━━━━━━━━━━━━━━━━━━━━━━━━━━━━━━━━━━━━━\u001b[0m \u001b[32m317.0/317.0 MB\u001b[0m \u001b[31m3.2 MB/s\u001b[0m eta \u001b[36m0:00:00\u001b[0m\n",
            "\u001b[?25h  Preparing metadata (setup.py) ... \u001b[?25l\u001b[?25hdone\n",
            "\u001b[2K     \u001b[90m━━━━━━━━━━━━━━━━━━━━━━━━━━━━━━━━━━━━━━━━\u001b[0m \u001b[32m154.7/154.7 kB\u001b[0m \u001b[31m13.2 MB/s\u001b[0m eta \u001b[36m0:00:00\u001b[0m\n",
            "\u001b[?25h  Building wheel for pyspark (setup.py) ... \u001b[?25l\u001b[?25hdone\n"
          ]
        }
      ],
      "source": [
        "#Installing the necessary libraries\n",
        "!apt-get install openjdk-11-jdk-headless -qq > /dev/null\n",
        "!wget -q https://bitbucket.org/habedi/datasets/raw/b6769c4664e7ff68b001e2f43bc517888cbe3642/spark/spark-3.0.2-bin-hadoop2.7.tgz\n",
        "!tar xf spark-3.0.2-bin-hadoop2.7.tgz\n",
        "!rm -rf spark-3.0.2-bin-hadoop2.7.tgz*\n",
        "!pip -q install findspark pyspark graphframes"
      ]
    },
    {
      "cell_type": "code",
      "source": [
        "#Initializing the environment\n",
        "import os\n",
        "os.environ[\"PYSPARK_DRIVER_PYTHON\"] = \"jupyter\"\n",
        "os.environ[\"PYSPARK_DRIVER_PYTHON_OPTS\"] = \"notebook\"\n",
        "os.environ[\"PYSPARK_SUBMIT_ARGS\"] = \"--packages graphframes:graphframes:0.8.1-spark3.0-s_2.12 pyspark-shell\""
      ],
      "metadata": {
        "id": "gP4haCRGRCsP"
      },
      "execution_count": 2,
      "outputs": []
    },
    {
      "cell_type": "code",
      "source": [
        "from graphframes import *\n",
        "from pyspark import *\n",
        "from pyspark.sql import *\n",
        "spark = SparkSession.builder.appName('proj').getOrCreate()"
      ],
      "metadata": {
        "id": "TRPbxbmgRCpf"
      },
      "execution_count": 3,
      "outputs": []
    },
    {
      "cell_type": "markdown",
      "source": [
        "<h2><b>Importing datasets:<h2/>\n",
        "We are going to be working with two datasets in the first part of our project.The nodes dataset maps the names of 500 individuals whereas the edges dataset helps us understand the relation between source and destination column."
      ],
      "metadata": {
        "id": "Xe9ywlP-aQxW"
      }
    },
    {
      "cell_type": "code",
      "source": [
        "vertices = spark.read.option('header', 'true').csv('nodes.csv')\n",
        "edges = spark.read.option('header', 'true').csv('edges.csv')"
      ],
      "metadata": {
        "id": "vnklZRqIRCmf"
      },
      "execution_count": 4,
      "outputs": []
    },
    {
      "cell_type": "code",
      "source": [
        "vertices.count()"
      ],
      "metadata": {
        "colab": {
          "base_uri": "https://localhost:8080/"
        },
        "id": "wQmqD6xaA5rB",
        "outputId": "de112851-3864-4a99-947b-306cdceca658"
      },
      "execution_count": 5,
      "outputs": [
        {
          "output_type": "execute_result",
          "data": {
            "text/plain": [
              "500"
            ]
          },
          "metadata": {},
          "execution_count": 5
        }
      ]
    },
    {
      "cell_type": "code",
      "source": [
        "edges.count()"
      ],
      "metadata": {
        "colab": {
          "base_uri": "https://localhost:8080/"
        },
        "id": "LtvKdTUTvh7Y",
        "outputId": "3495b4b7-4edc-466b-827b-5e3fac747d67"
      },
      "execution_count": 6,
      "outputs": [
        {
          "output_type": "execute_result",
          "data": {
            "text/plain": [
              "1500"
            ]
          },
          "metadata": {},
          "execution_count": 6
        }
      ]
    },
    {
      "cell_type": "code",
      "source": [
        "#Creating a graph of vertices and edges\n",
        "graph = GraphFrame(vertices, edges)"
      ],
      "metadata": {
        "colab": {
          "base_uri": "https://localhost:8080/"
        },
        "id": "HXframsdRCeO",
        "outputId": "49f88e7c-7450-43f3-82a0-f905a7f49670"
      },
      "execution_count": 7,
      "outputs": [
        {
          "output_type": "stream",
          "name": "stderr",
          "text": [
            "/usr/local/lib/python3.10/dist-packages/pyspark/sql/dataframe.py:168: UserWarning: DataFrame.sql_ctx is an internal property, and will be removed in future releases. Use DataFrame.sparkSession instead.\n",
            "  warnings.warn(\n"
          ]
        }
      ]
    },
    {
      "cell_type": "markdown",
      "source": [
        "**GraphFrame Analysis:**\n",
        "By creating a graphFrame we will be able to understand the customers who buys from the highest number of workers which is shown by the id having the highest outdegree.Similarly we are using the pageRank method of GraphFrame to analyze which userid was was the most frequent id in the whole dataset.By completing further analysis on this data we can also find out"
      ],
      "metadata": {
        "id": "vrYCxVk-fU7S"
      }
    },
    {
      "cell_type": "code",
      "source": [
        "#Displaying the vertices of graph\n",
        "graph.vertices.show()\n",
        "\n",
        "#Displaying the edges of graph\n",
        "graph.edges.show()"
      ],
      "metadata": {
        "colab": {
          "base_uri": "https://localhost:8080/"
        },
        "id": "hTaIiT5iRCRg",
        "outputId": "bd2686c6-529f-4543-bb84-9b206ea2ef9c"
      },
      "execution_count": 8,
      "outputs": [
        {
          "output_type": "stream",
          "name": "stdout",
          "text": [
            "+---+------+\n",
            "| id|  name|\n",
            "+---+------+\n",
            "|  1|worker|\n",
            "|  2|worker|\n",
            "|  3|worker|\n",
            "|  4|worker|\n",
            "|  5|worker|\n",
            "|  6|worker|\n",
            "|  7|worker|\n",
            "|  8|worker|\n",
            "|  9|worker|\n",
            "| 10|worker|\n",
            "| 11|worker|\n",
            "| 12|worker|\n",
            "| 13|worker|\n",
            "| 14|worker|\n",
            "| 15|worker|\n",
            "| 16|worker|\n",
            "| 17|worker|\n",
            "| 18|worker|\n",
            "| 19|worker|\n",
            "| 20|worker|\n",
            "+---+------+\n",
            "only showing top 20 rows\n",
            "\n",
            "+---+---+--------+-------------+------+\n",
            "|src|dst|relation|         item|rating|\n",
            "+---+---+--------+-------------+------+\n",
            "|257| 57|    buys|         pens|     2|\n",
            "|210|151|    buys|   headphones|     1|\n",
            "|395|158|    buys|       laptop|     5|\n",
            "|160| 73|    buys|   headphones|     3|\n",
            "|357| 55|    buys|        mouse|     2|\n",
            "| 48| 52| manages|       online|    10|\n",
            "|350|112|    buys|    usb cable|     2|\n",
            "| 65|166|    buys|        mouse|     5|\n",
            "|241|116|    buys|  paper clips|     2|\n",
            "|239|100|    buys|      pencils|     2|\n",
            "|133| 63|    buys|      monitor|     3|\n",
            "|402| 69|    buys|         pens|     1|\n",
            "|466| 53|    buys|        mouse|     3|\n",
            "|353| 59|    buys|         pens|     4|\n",
            "|132|137|    buys|paper weights|     5|\n",
            "|375|158|    buys|    mouse pad|     1|\n",
            "|133|173|    buys|       laptop|     5|\n",
            "| 98|147|    buys|       laptop|     5|\n",
            "|107| 57|    buys|paper weights|     2|\n",
            "|413| 52|    buys|       laptop|     2|\n",
            "+---+---+--------+-------------+------+\n",
            "only showing top 20 rows\n",
            "\n"
          ]
        }
      ]
    },
    {
      "cell_type": "code",
      "source": [
        "#Displaying the users and number of out degress\n",
        "graph.outDegrees.show()\n",
        "\n",
        "#Displaying top-5 users having maximum outDegrees\n",
        "graph.outDegrees.orderBy(['outDegree'], ascending = [False]).show()\n",
        "\n",
        "#Displaying bottom-3 users having minimum outDegrees\n",
        "graph.inDegrees.orderBy(['inDegree'], ascending = [False]).show()"
      ],
      "metadata": {
        "colab": {
          "base_uri": "https://localhost:8080/"
        },
        "id": "_RyA1j3ARCPA",
        "outputId": "7aa1fb6e-5ba0-406f-bcd4-63cec29638b0"
      },
      "execution_count": 10,
      "outputs": [
        {
          "output_type": "stream",
          "name": "stderr",
          "text": [
            "/usr/local/lib/python3.10/dist-packages/pyspark/sql/dataframe.py:147: UserWarning: DataFrame constructor is internal. Do not directly use it.\n",
            "  warnings.warn(\"DataFrame constructor is internal. Do not directly use it.\")\n"
          ]
        },
        {
          "output_type": "stream",
          "name": "stdout",
          "text": [
            "+---+---------+\n",
            "| id|outDegree|\n",
            "+---+---------+\n",
            "|467|        5|\n",
            "|296|        1|\n",
            "|451|        7|\n",
            "|125|        3|\n",
            "|  7|        3|\n",
            "| 51|        3|\n",
            "|124|        2|\n",
            "|447|        1|\n",
            "|307|        3|\n",
            "|475|        1|\n",
            "|334|       10|\n",
            "|205|        4|\n",
            "|169|        5|\n",
            "|462|        4|\n",
            "|442|        1|\n",
            "|470|        1|\n",
            "|272|        1|\n",
            "| 54|        2|\n",
            "|232|        2|\n",
            "|282|        3|\n",
            "+---+---------+\n",
            "only showing top 20 rows\n",
            "\n",
            "+---+---------+\n",
            "| id|outDegree|\n",
            "+---+---------+\n",
            "|334|       10|\n",
            "|401|       10|\n",
            "|188|        9|\n",
            "|160|        9|\n",
            "| 98|        8|\n",
            "| 71|        8|\n",
            "| 78|        8|\n",
            "|427|        8|\n",
            "|305|        8|\n",
            "|298|        7|\n",
            "|390|        7|\n",
            "|451|        7|\n",
            "|166|        7|\n",
            "|433|        7|\n",
            "| 89|        7|\n",
            "|229|        7|\n",
            "| 55|        7|\n",
            "|322|        7|\n",
            "| 88|        7|\n",
            "| 37|        7|\n",
            "+---+---------+\n",
            "only showing top 20 rows\n",
            "\n",
            "+---+--------+\n",
            "| id|inDegree|\n",
            "+---+--------+\n",
            "|125|      23|\n",
            "|116|      22|\n",
            "| 91|      21|\n",
            "|137|      21|\n",
            "| 63|      19|\n",
            "|121|      19|\n",
            "|151|      19|\n",
            "|112|      18|\n",
            "|171|      18|\n",
            "|100|      18|\n",
            "|115|      18|\n",
            "| 99|      17|\n",
            "| 67|      17|\n",
            "| 55|      17|\n",
            "| 53|      17|\n",
            "|127|      17|\n",
            "|132|      16|\n",
            "|118|      16|\n",
            "| 86|      16|\n",
            "|148|      16|\n",
            "+---+--------+\n",
            "only showing top 20 rows\n",
            "\n"
          ]
        }
      ]
    },
    {
      "cell_type": "code",
      "source": [
        "y=graph.pageRank(maxIter=10)\n",
        "y.vertices.show()"
      ],
      "metadata": {
        "colab": {
          "base_uri": "https://localhost:8080/"
        },
        "id": "RaRPC8w4RCZH",
        "outputId": "f2623899-1e70-4aab-bf81-0ea2901b2ae7"
      },
      "execution_count": 11,
      "outputs": [
        {
          "output_type": "stream",
          "name": "stderr",
          "text": [
            "/usr/local/lib/python3.10/dist-packages/pyspark/sql/dataframe.py:168: UserWarning: DataFrame.sql_ctx is an internal property, and will be removed in future releases. Use DataFrame.sparkSession instead.\n",
            "  warnings.warn(\n"
          ]
        },
        {
          "output_type": "stream",
          "name": "stdout",
          "text": [
            "+---+------+-------------------+\n",
            "| id|  name|           pagerank|\n",
            "+---+------+-------------------+\n",
            "|  1|worker|0.18298212506590952|\n",
            "|  2|worker|0.18298212506590952|\n",
            "|  3|worker|0.18298212506590952|\n",
            "|  4|worker|0.18298212506590952|\n",
            "|  5|worker|0.18298212506590952|\n",
            "|  6|worker|0.18298212506590952|\n",
            "|  7|worker|0.18298212506590952|\n",
            "|  8|worker|0.18298212506590952|\n",
            "|  9|worker|0.18298212506590952|\n",
            "| 10|worker|0.18298212506590952|\n",
            "| 11|worker|0.18298212506590952|\n",
            "| 12|worker|0.18298212506590952|\n",
            "| 13|worker|0.18298212506590952|\n",
            "| 14|worker|0.18298212506590952|\n",
            "| 15|worker|0.18298212506590952|\n",
            "| 16|worker|0.18298212506590952|\n",
            "| 17|worker|0.18298212506590952|\n",
            "| 18|worker|0.18298212506590952|\n",
            "| 19|worker|0.18298212506590952|\n",
            "| 20|worker|0.18298212506590952|\n",
            "+---+------+-------------------+\n",
            "only showing top 20 rows\n",
            "\n"
          ]
        }
      ]
    },
    {
      "cell_type": "code",
      "source": [
        "y_vertices = y.vertices                                                  #Grouping the edges and vertices\n",
        "data_edges = graph.edges.select(\"src\", \"dst\", \"relation\",\"item\",\"rating\")\n",
        "y_with_relations = GraphFrame(y_vertices, data_edges)\n",
        "y_with_relations.vertices.show()\n"
      ],
      "metadata": {
        "colab": {
          "base_uri": "https://localhost:8080/"
        },
        "id": "xFEQ7qi5RCWv",
        "outputId": "a4ea83fe-bb4e-4d8c-a99c-91bd9c5e4ad0"
      },
      "execution_count": 14,
      "outputs": [
        {
          "output_type": "stream",
          "name": "stdout",
          "text": [
            "+---+------+-------------------+\n",
            "| id|  name|           pagerank|\n",
            "+---+------+-------------------+\n",
            "|  1|worker|0.18298212506590952|\n",
            "|  2|worker|0.18298212506590952|\n",
            "|  3|worker|0.18298212506590952|\n",
            "|  4|worker|0.18298212506590952|\n",
            "|  5|worker|0.18298212506590952|\n",
            "|  6|worker|0.18298212506590952|\n",
            "|  7|worker|0.18298212506590952|\n",
            "|  8|worker|0.18298212506590952|\n",
            "|  9|worker|0.18298212506590952|\n",
            "| 10|worker|0.18298212506590952|\n",
            "| 11|worker|0.18298212506590952|\n",
            "| 12|worker|0.18298212506590952|\n",
            "| 13|worker|0.18298212506590952|\n",
            "| 14|worker|0.18298212506590952|\n",
            "| 15|worker|0.18298212506590952|\n",
            "| 16|worker|0.18298212506590952|\n",
            "| 17|worker|0.18298212506590952|\n",
            "| 18|worker|0.18298212506590952|\n",
            "| 19|worker|0.18298212506590952|\n",
            "| 20|worker|0.18298212506590952|\n",
            "+---+------+-------------------+\n",
            "only showing top 20 rows\n",
            "\n"
          ]
        }
      ]
    },
    {
      "cell_type": "code",
      "source": [
        "type(vertices)"
      ],
      "metadata": {
        "colab": {
          "base_uri": "https://localhost:8080/",
          "height": 186
        },
        "id": "Vezr86LrRCUA",
        "outputId": "0a385c45-4365-4ac0-e581-6cd3b284e6a2"
      },
      "execution_count": 15,
      "outputs": [
        {
          "output_type": "execute_result",
          "data": {
            "text/plain": [
              "pyspark.sql.dataframe.DataFrame"
            ],
            "text/html": [
              "<div style=\"max-width:800px; border: 1px solid var(--colab-border-color);\"><style>\n",
              "      pre.function-repr-contents {\n",
              "        overflow-x: auto;\n",
              "        padding: 8px 12px;\n",
              "        max-height: 500px;\n",
              "      }\n",
              "\n",
              "      pre.function-repr-contents.function-repr-contents-collapsed {\n",
              "        cursor: pointer;\n",
              "        max-height: 100px;\n",
              "      }\n",
              "    </style>\n",
              "    <pre style=\"white-space: initial; background:\n",
              "         var(--colab-secondary-surface-color); padding: 8px 12px;\n",
              "         border-bottom: 1px solid var(--colab-border-color);\"><b>pyspark.sql.dataframe.DataFrame</b><br/>def __init__(jdf: JavaObject, sql_ctx: Union[&#x27;SQLContext&#x27;, &#x27;SparkSession&#x27;])</pre><pre class=\"function-repr-contents function-repr-contents-collapsed\" style=\"\"><a class=\"filepath\" style=\"display:none\" href=\"#\">/usr/local/lib/python3.10/dist-packages/pyspark/sql/dataframe.py</a>A distributed collection of data grouped into named columns.\n",
              "\n",
              ".. versionadded:: 1.3.0\n",
              "\n",
              ".. versionchanged:: 3.4.0\n",
              "    Supports Spark Connect.\n",
              "\n",
              "Examples\n",
              "--------\n",
              "A :class:`DataFrame` is equivalent to a relational table in Spark SQL,\n",
              "and can be created using various functions in :class:`SparkSession`:\n",
              "\n",
              "&gt;&gt;&gt; people = spark.createDataFrame([\n",
              "...     {&quot;deptId&quot;: 1, &quot;age&quot;: 40, &quot;name&quot;: &quot;Hyukjin Kwon&quot;, &quot;gender&quot;: &quot;M&quot;, &quot;salary&quot;: 50},\n",
              "...     {&quot;deptId&quot;: 1, &quot;age&quot;: 50, &quot;name&quot;: &quot;Takuya Ueshin&quot;, &quot;gender&quot;: &quot;M&quot;, &quot;salary&quot;: 100},\n",
              "...     {&quot;deptId&quot;: 2, &quot;age&quot;: 60, &quot;name&quot;: &quot;Xinrong Meng&quot;, &quot;gender&quot;: &quot;F&quot;, &quot;salary&quot;: 150},\n",
              "...     {&quot;deptId&quot;: 3, &quot;age&quot;: 20, &quot;name&quot;: &quot;Haejoon Lee&quot;, &quot;gender&quot;: &quot;M&quot;, &quot;salary&quot;: 200}\n",
              "... ])\n",
              "\n",
              "Once created, it can be manipulated using the various domain-specific-language\n",
              "(DSL) functions defined in: :class:`DataFrame`, :class:`Column`.\n",
              "\n",
              "To select a column from the :class:`DataFrame`, use the apply method:\n",
              "\n",
              "&gt;&gt;&gt; age_col = people.age\n",
              "\n",
              "A more concrete example:\n",
              "\n",
              "&gt;&gt;&gt; # To create DataFrame using SparkSession\n",
              "... department = spark.createDataFrame([\n",
              "...     {&quot;id&quot;: 1, &quot;name&quot;: &quot;PySpark&quot;},\n",
              "...     {&quot;id&quot;: 2, &quot;name&quot;: &quot;ML&quot;},\n",
              "...     {&quot;id&quot;: 3, &quot;name&quot;: &quot;Spark SQL&quot;}\n",
              "... ])\n",
              "\n",
              "&gt;&gt;&gt; people.filter(people.age &gt; 30).join(\n",
              "...     department, people.deptId == department.id).groupBy(\n",
              "...     department.name, &quot;gender&quot;).agg({&quot;salary&quot;: &quot;avg&quot;, &quot;age&quot;: &quot;max&quot;}).show()\n",
              "+-------+------+-----------+--------+\n",
              "|   name|gender|avg(salary)|max(age)|\n",
              "+-------+------+-----------+--------+\n",
              "|     ML|     F|      150.0|      60|\n",
              "|PySpark|     M|       75.0|      50|\n",
              "+-------+------+-----------+--------+\n",
              "\n",
              "Notes\n",
              "-----\n",
              "A DataFrame should only be created as described above. It should not be directly\n",
              "created via using the constructor.</pre>\n",
              "      <script>\n",
              "      if (google.colab.kernel.accessAllowed && google.colab.files && google.colab.files.view) {\n",
              "        for (const element of document.querySelectorAll('.filepath')) {\n",
              "          element.style.display = 'block'\n",
              "          element.onclick = (event) => {\n",
              "            event.preventDefault();\n",
              "            event.stopPropagation();\n",
              "            google.colab.files.view(element.textContent, 80);\n",
              "          };\n",
              "        }\n",
              "      }\n",
              "      for (const element of document.querySelectorAll('.function-repr-contents')) {\n",
              "        element.onclick = (event) => {\n",
              "          event.preventDefault();\n",
              "          event.stopPropagation();\n",
              "          element.classList.toggle('function-repr-contents-collapsed');\n",
              "        };\n",
              "      }\n",
              "      </script>\n",
              "      </div>"
            ]
          },
          "metadata": {},
          "execution_count": 15
        }
      ]
    },
    {
      "cell_type": "code",
      "source": [
        "data_vertices = y_with_relations.vertices.orderBy(\"pagerank\", ascending=False)\n",
        "data_vertices.show()"
      ],
      "metadata": {
        "colab": {
          "base_uri": "https://localhost:8080/"
        },
        "id": "N1rJalmCRCMo",
        "outputId": "6c7d9942-d043-44ab-adb2-60941c06abae"
      },
      "execution_count": 16,
      "outputs": [
        {
          "output_type": "stream",
          "name": "stdout",
          "text": [
            "+---+------+------------------+\n",
            "| id|  name|          pagerank|\n",
            "+---+------+------------------+\n",
            "|116|worker|14.036168656614949|\n",
            "|140|worker|13.697565136254159|\n",
            "|148|worker|11.361609807300171|\n",
            "|150|worker|11.358469492346893|\n",
            "|112|worker| 9.314862111594387|\n",
            "| 60|worker| 8.934199749365282|\n",
            "|145|worker| 8.630717578208252|\n",
            "| 90|worker| 8.269886818609974|\n",
            "| 82|worker| 7.978091233052873|\n",
            "|137|worker|  7.96861407927161|\n",
            "|135|worker| 7.885009739966228|\n",
            "| 91|worker|6.9300302284726865|\n",
            "| 97|worker|  6.70673022652916|\n",
            "|163|worker| 6.644861902845732|\n",
            "|141|worker| 6.533074969978541|\n",
            "| 69|worker| 6.257346013964667|\n",
            "| 95|worker| 6.246651819386722|\n",
            "| 58|worker| 6.068394813226532|\n",
            "|171|worker| 5.961323098361945|\n",
            "|100|worker| 5.931271079472601|\n",
            "+---+------+------------------+\n",
            "only showing top 20 rows\n",
            "\n"
          ]
        }
      ]
    },
    {
      "cell_type": "code",
      "source": [
        "type(data_vertices)"
      ],
      "metadata": {
        "colab": {
          "base_uri": "https://localhost:8080/",
          "height": 186
        },
        "id": "2_IDn-_2RCKB",
        "outputId": "48e45038-a8f2-4957-e48b-eb02ad97ad01"
      },
      "execution_count": 17,
      "outputs": [
        {
          "output_type": "execute_result",
          "data": {
            "text/plain": [
              "pyspark.sql.dataframe.DataFrame"
            ],
            "text/html": [
              "<div style=\"max-width:800px; border: 1px solid var(--colab-border-color);\"><style>\n",
              "      pre.function-repr-contents {\n",
              "        overflow-x: auto;\n",
              "        padding: 8px 12px;\n",
              "        max-height: 500px;\n",
              "      }\n",
              "\n",
              "      pre.function-repr-contents.function-repr-contents-collapsed {\n",
              "        cursor: pointer;\n",
              "        max-height: 100px;\n",
              "      }\n",
              "    </style>\n",
              "    <pre style=\"white-space: initial; background:\n",
              "         var(--colab-secondary-surface-color); padding: 8px 12px;\n",
              "         border-bottom: 1px solid var(--colab-border-color);\"><b>pyspark.sql.dataframe.DataFrame</b><br/>def __init__(jdf: JavaObject, sql_ctx: Union[&#x27;SQLContext&#x27;, &#x27;SparkSession&#x27;])</pre><pre class=\"function-repr-contents function-repr-contents-collapsed\" style=\"\"><a class=\"filepath\" style=\"display:none\" href=\"#\">/usr/local/lib/python3.10/dist-packages/pyspark/sql/dataframe.py</a>A distributed collection of data grouped into named columns.\n",
              "\n",
              ".. versionadded:: 1.3.0\n",
              "\n",
              ".. versionchanged:: 3.4.0\n",
              "    Supports Spark Connect.\n",
              "\n",
              "Examples\n",
              "--------\n",
              "A :class:`DataFrame` is equivalent to a relational table in Spark SQL,\n",
              "and can be created using various functions in :class:`SparkSession`:\n",
              "\n",
              "&gt;&gt;&gt; people = spark.createDataFrame([\n",
              "...     {&quot;deptId&quot;: 1, &quot;age&quot;: 40, &quot;name&quot;: &quot;Hyukjin Kwon&quot;, &quot;gender&quot;: &quot;M&quot;, &quot;salary&quot;: 50},\n",
              "...     {&quot;deptId&quot;: 1, &quot;age&quot;: 50, &quot;name&quot;: &quot;Takuya Ueshin&quot;, &quot;gender&quot;: &quot;M&quot;, &quot;salary&quot;: 100},\n",
              "...     {&quot;deptId&quot;: 2, &quot;age&quot;: 60, &quot;name&quot;: &quot;Xinrong Meng&quot;, &quot;gender&quot;: &quot;F&quot;, &quot;salary&quot;: 150},\n",
              "...     {&quot;deptId&quot;: 3, &quot;age&quot;: 20, &quot;name&quot;: &quot;Haejoon Lee&quot;, &quot;gender&quot;: &quot;M&quot;, &quot;salary&quot;: 200}\n",
              "... ])\n",
              "\n",
              "Once created, it can be manipulated using the various domain-specific-language\n",
              "(DSL) functions defined in: :class:`DataFrame`, :class:`Column`.\n",
              "\n",
              "To select a column from the :class:`DataFrame`, use the apply method:\n",
              "\n",
              "&gt;&gt;&gt; age_col = people.age\n",
              "\n",
              "A more concrete example:\n",
              "\n",
              "&gt;&gt;&gt; # To create DataFrame using SparkSession\n",
              "... department = spark.createDataFrame([\n",
              "...     {&quot;id&quot;: 1, &quot;name&quot;: &quot;PySpark&quot;},\n",
              "...     {&quot;id&quot;: 2, &quot;name&quot;: &quot;ML&quot;},\n",
              "...     {&quot;id&quot;: 3, &quot;name&quot;: &quot;Spark SQL&quot;}\n",
              "... ])\n",
              "\n",
              "&gt;&gt;&gt; people.filter(people.age &gt; 30).join(\n",
              "...     department, people.deptId == department.id).groupBy(\n",
              "...     department.name, &quot;gender&quot;).agg({&quot;salary&quot;: &quot;avg&quot;, &quot;age&quot;: &quot;max&quot;}).show()\n",
              "+-------+------+-----------+--------+\n",
              "|   name|gender|avg(salary)|max(age)|\n",
              "+-------+------+-----------+--------+\n",
              "|     ML|     F|      150.0|      60|\n",
              "|PySpark|     M|       75.0|      50|\n",
              "+-------+------+-----------+--------+\n",
              "\n",
              "Notes\n",
              "-----\n",
              "A DataFrame should only be created as described above. It should not be directly\n",
              "created via using the constructor.</pre>\n",
              "      <script>\n",
              "      if (google.colab.kernel.accessAllowed && google.colab.files && google.colab.files.view) {\n",
              "        for (const element of document.querySelectorAll('.filepath')) {\n",
              "          element.style.display = 'block'\n",
              "          element.onclick = (event) => {\n",
              "            event.preventDefault();\n",
              "            event.stopPropagation();\n",
              "            google.colab.files.view(element.textContent, 80);\n",
              "          };\n",
              "        }\n",
              "      }\n",
              "      for (const element of document.querySelectorAll('.function-repr-contents')) {\n",
              "        element.onclick = (event) => {\n",
              "          event.preventDefault();\n",
              "          event.stopPropagation();\n",
              "          element.classList.toggle('function-repr-contents-collapsed');\n",
              "        };\n",
              "      }\n",
              "      </script>\n",
              "      </div>"
            ]
          },
          "metadata": {},
          "execution_count": 17
        }
      ]
    },
    {
      "cell_type": "code",
      "source": [
        "data_edges=y_with_relations.edges\n",
        "data_edges.show()"
      ],
      "metadata": {
        "colab": {
          "base_uri": "https://localhost:8080/"
        },
        "id": "X2eDFrKySY7G",
        "outputId": "a01145a5-365c-4a40-a6b9-d23f0aefed3f"
      },
      "execution_count": 18,
      "outputs": [
        {
          "output_type": "stream",
          "name": "stdout",
          "text": [
            "+---+---+--------+-------------+------+\n",
            "|src|dst|relation|         item|rating|\n",
            "+---+---+--------+-------------+------+\n",
            "|257| 57|    buys|         pens|     2|\n",
            "|210|151|    buys|   headphones|     1|\n",
            "|395|158|    buys|       laptop|     5|\n",
            "|160| 73|    buys|   headphones|     3|\n",
            "|357| 55|    buys|        mouse|     2|\n",
            "| 48| 52| manages|       online|    10|\n",
            "|350|112|    buys|    usb cable|     2|\n",
            "| 65|166|    buys|        mouse|     5|\n",
            "|241|116|    buys|  paper clips|     2|\n",
            "|239|100|    buys|      pencils|     2|\n",
            "|133| 63|    buys|      monitor|     3|\n",
            "|402| 69|    buys|         pens|     1|\n",
            "|466| 53|    buys|        mouse|     3|\n",
            "|353| 59|    buys|         pens|     4|\n",
            "|132|137|    buys|paper weights|     5|\n",
            "|375|158|    buys|    mouse pad|     1|\n",
            "|133|173|    buys|       laptop|     5|\n",
            "| 98|147|    buys|       laptop|     5|\n",
            "|107| 57|    buys|paper weights|     2|\n",
            "|413| 52|    buys|       laptop|     2|\n",
            "+---+---+--------+-------------+------+\n",
            "only showing top 20 rows\n",
            "\n"
          ]
        }
      ]
    },
    {
      "cell_type": "markdown",
      "source": [
        "Inorder to process our data further, that is joining the vertices and edges to form a combined sql dataframe, \"join\" is used."
      ],
      "metadata": {
        "id": "JyVm1ObukgLR"
      }
    },
    {
      "cell_type": "code",
      "source": [
        "data1=data_vertices.join(data_edges, data_vertices[\"id\"].startswith(data_edges[\"src\"]),\"full_outer\")\n",
        "data1.show(3)"
      ],
      "metadata": {
        "colab": {
          "base_uri": "https://localhost:8080/"
        },
        "id": "fqXVIHCpSY42",
        "outputId": "d406ace0-5b06-4df1-ce85-1c95c80a70ba"
      },
      "execution_count": 20,
      "outputs": [
        {
          "output_type": "stream",
          "name": "stdout",
          "text": [
            "+---+------+-------------------+---+---+--------+-------+------+\n",
            "| id|  name|           pagerank|src|dst|relation|   item|rating|\n",
            "+---+------+-------------------+---+---+--------+-------+------+\n",
            "|  1|worker|0.18298212506590952|  1|168| manages| online|    30|\n",
            "|  2|worker|0.18298212506590952|  2|114| manages|offline|    30|\n",
            "|  2|worker|0.18298212506590952|  2| 76| manages|offline|    40|\n",
            "+---+------+-------------------+---+---+--------+-------+------+\n",
            "only showing top 3 rows\n",
            "\n"
          ]
        }
      ]
    },
    {
      "cell_type": "code",
      "source": [
        "data2=data1.orderBy(\"pagerank\", ascending=False)\n",
        "data2.show(3)"
      ],
      "metadata": {
        "colab": {
          "base_uri": "https://localhost:8080/"
        },
        "id": "Ncqzy7thSY1_",
        "outputId": "aeab68c2-eec5-4bbc-9141-5530fae29e21"
      },
      "execution_count": 21,
      "outputs": [
        {
          "output_type": "stream",
          "name": "stdout",
          "text": [
            "+---+------+------------------+---+---+--------+-------+------+\n",
            "| id|  name|          pagerank|src|dst|relation|   item|rating|\n",
            "+---+------+------------------+---+---+--------+-------+------+\n",
            "|116|worker|14.036168656614949|116| 51|    buys|pencils|     4|\n",
            "|116|worker|14.036168656614949|  1|168| manages| online|    30|\n",
            "|116|worker|14.036168656614949|116|145|    buys| laptop|     3|\n",
            "+---+------+------------------+---+---+--------+-------+------+\n",
            "only showing top 3 rows\n",
            "\n"
          ]
        }
      ]
    },
    {
      "cell_type": "code",
      "source": [
        "data_2 = data2.limit(1000)                               #Filtering top 1000 records"
      ],
      "metadata": {
        "id": "VZtJ3ExYCP8n"
      },
      "execution_count": 22,
      "outputs": []
    },
    {
      "cell_type": "code",
      "source": [
        "final=data_2.filter(data2['relation']==\"buys\")            # Filtering the data based on the relations"
      ],
      "metadata": {
        "id": "Y3QQdrJdSYzO"
      },
      "execution_count": 23,
      "outputs": []
    },
    {
      "cell_type": "code",
      "source": [
        "final2=data_2.filter(data2['relation']==\"manages\")"
      ],
      "metadata": {
        "id": "d-OBadhvSYsY"
      },
      "execution_count": 24,
      "outputs": []
    },
    {
      "cell_type": "code",
      "source": [
        "type(final)"
      ],
      "metadata": {
        "colab": {
          "base_uri": "https://localhost:8080/",
          "height": 186
        },
        "id": "_ywj0M0OSYno",
        "outputId": "84dd19b0-bc1d-45fd-b951-92b45e70547f"
      },
      "execution_count": 25,
      "outputs": [
        {
          "output_type": "execute_result",
          "data": {
            "text/plain": [
              "pyspark.sql.dataframe.DataFrame"
            ],
            "text/html": [
              "<div style=\"max-width:800px; border: 1px solid var(--colab-border-color);\"><style>\n",
              "      pre.function-repr-contents {\n",
              "        overflow-x: auto;\n",
              "        padding: 8px 12px;\n",
              "        max-height: 500px;\n",
              "      }\n",
              "\n",
              "      pre.function-repr-contents.function-repr-contents-collapsed {\n",
              "        cursor: pointer;\n",
              "        max-height: 100px;\n",
              "      }\n",
              "    </style>\n",
              "    <pre style=\"white-space: initial; background:\n",
              "         var(--colab-secondary-surface-color); padding: 8px 12px;\n",
              "         border-bottom: 1px solid var(--colab-border-color);\"><b>pyspark.sql.dataframe.DataFrame</b><br/>def __init__(jdf: JavaObject, sql_ctx: Union[&#x27;SQLContext&#x27;, &#x27;SparkSession&#x27;])</pre><pre class=\"function-repr-contents function-repr-contents-collapsed\" style=\"\"><a class=\"filepath\" style=\"display:none\" href=\"#\">/usr/local/lib/python3.10/dist-packages/pyspark/sql/dataframe.py</a>A distributed collection of data grouped into named columns.\n",
              "\n",
              ".. versionadded:: 1.3.0\n",
              "\n",
              ".. versionchanged:: 3.4.0\n",
              "    Supports Spark Connect.\n",
              "\n",
              "Examples\n",
              "--------\n",
              "A :class:`DataFrame` is equivalent to a relational table in Spark SQL,\n",
              "and can be created using various functions in :class:`SparkSession`:\n",
              "\n",
              "&gt;&gt;&gt; people = spark.createDataFrame([\n",
              "...     {&quot;deptId&quot;: 1, &quot;age&quot;: 40, &quot;name&quot;: &quot;Hyukjin Kwon&quot;, &quot;gender&quot;: &quot;M&quot;, &quot;salary&quot;: 50},\n",
              "...     {&quot;deptId&quot;: 1, &quot;age&quot;: 50, &quot;name&quot;: &quot;Takuya Ueshin&quot;, &quot;gender&quot;: &quot;M&quot;, &quot;salary&quot;: 100},\n",
              "...     {&quot;deptId&quot;: 2, &quot;age&quot;: 60, &quot;name&quot;: &quot;Xinrong Meng&quot;, &quot;gender&quot;: &quot;F&quot;, &quot;salary&quot;: 150},\n",
              "...     {&quot;deptId&quot;: 3, &quot;age&quot;: 20, &quot;name&quot;: &quot;Haejoon Lee&quot;, &quot;gender&quot;: &quot;M&quot;, &quot;salary&quot;: 200}\n",
              "... ])\n",
              "\n",
              "Once created, it can be manipulated using the various domain-specific-language\n",
              "(DSL) functions defined in: :class:`DataFrame`, :class:`Column`.\n",
              "\n",
              "To select a column from the :class:`DataFrame`, use the apply method:\n",
              "\n",
              "&gt;&gt;&gt; age_col = people.age\n",
              "\n",
              "A more concrete example:\n",
              "\n",
              "&gt;&gt;&gt; # To create DataFrame using SparkSession\n",
              "... department = spark.createDataFrame([\n",
              "...     {&quot;id&quot;: 1, &quot;name&quot;: &quot;PySpark&quot;},\n",
              "...     {&quot;id&quot;: 2, &quot;name&quot;: &quot;ML&quot;},\n",
              "...     {&quot;id&quot;: 3, &quot;name&quot;: &quot;Spark SQL&quot;}\n",
              "... ])\n",
              "\n",
              "&gt;&gt;&gt; people.filter(people.age &gt; 30).join(\n",
              "...     department, people.deptId == department.id).groupBy(\n",
              "...     department.name, &quot;gender&quot;).agg({&quot;salary&quot;: &quot;avg&quot;, &quot;age&quot;: &quot;max&quot;}).show()\n",
              "+-------+------+-----------+--------+\n",
              "|   name|gender|avg(salary)|max(age)|\n",
              "+-------+------+-----------+--------+\n",
              "|     ML|     F|      150.0|      60|\n",
              "|PySpark|     M|       75.0|      50|\n",
              "+-------+------+-----------+--------+\n",
              "\n",
              "Notes\n",
              "-----\n",
              "A DataFrame should only be created as described above. It should not be directly\n",
              "created via using the constructor.</pre>\n",
              "      <script>\n",
              "      if (google.colab.kernel.accessAllowed && google.colab.files && google.colab.files.view) {\n",
              "        for (const element of document.querySelectorAll('.filepath')) {\n",
              "          element.style.display = 'block'\n",
              "          element.onclick = (event) => {\n",
              "            event.preventDefault();\n",
              "            event.stopPropagation();\n",
              "            google.colab.files.view(element.textContent, 80);\n",
              "          };\n",
              "        }\n",
              "      }\n",
              "      for (const element of document.querySelectorAll('.function-repr-contents')) {\n",
              "        element.onclick = (event) => {\n",
              "          event.preventDefault();\n",
              "          event.stopPropagation();\n",
              "          element.classList.toggle('function-repr-contents-collapsed');\n",
              "        };\n",
              "      }\n",
              "      </script>\n",
              "      </div>"
            ]
          },
          "metadata": {},
          "execution_count": 25
        }
      ]
    },
    {
      "cell_type": "code",
      "source": [
        "final_data=final.dropna()"
      ],
      "metadata": {
        "id": "jxHufXQmSYlO"
      },
      "execution_count": 26,
      "outputs": []
    },
    {
      "cell_type": "code",
      "source": [
        "final_data1=final2.dropna()"
      ],
      "metadata": {
        "id": "oVSWF8z0SwU2"
      },
      "execution_count": 27,
      "outputs": []
    },
    {
      "cell_type": "code",
      "source": [
        "cluster_data=final_data.select(\"name\",\"src\",\"dst\",\"pagerank\",\"item\",\"rating\")"
      ],
      "metadata": {
        "id": "ZOeD7AzoSwSX"
      },
      "execution_count": 28,
      "outputs": []
    },
    {
      "cell_type": "code",
      "source": [
        "cluster_data.show(3)"
      ],
      "metadata": {
        "colab": {
          "base_uri": "https://localhost:8080/"
        },
        "id": "dHUNbrMASYim",
        "outputId": "f44f464d-648c-41f0-834f-6d9989260ab9"
      },
      "execution_count": 30,
      "outputs": [
        {
          "output_type": "stream",
          "name": "stdout",
          "text": [
            "+------+---+---+------------------+---------+------+\n",
            "|  name|src|dst|          pagerank|     item|rating|\n",
            "+------+---+---+------------------+---------+------+\n",
            "|worker|116| 51|14.036168656614949|  pencils|     4|\n",
            "|worker|116|145|14.036168656614949|   laptop|     3|\n",
            "|worker|116|134|14.036168656614949|mouse pad|     3|\n",
            "+------+---+---+------------------+---------+------+\n",
            "only showing top 3 rows\n",
            "\n"
          ]
        }
      ]
    },
    {
      "cell_type": "code",
      "source": [
        "cluster_data2=final_data1.select(\"name\",\"src\",\"dst\",\"pagerank\",\"item\",\"rating\")"
      ],
      "metadata": {
        "id": "DL9ctf7oSYgG"
      },
      "execution_count": 31,
      "outputs": []
    },
    {
      "cell_type": "code",
      "source": [
        "cluster_data2.show(3)"
      ],
      "metadata": {
        "colab": {
          "base_uri": "https://localhost:8080/"
        },
        "id": "j-KxTu4cSvye",
        "outputId": "bf9a7e0f-b75b-439d-8421-f4071d7e8c6d"
      },
      "execution_count": 32,
      "outputs": [
        {
          "output_type": "stream",
          "name": "stdout",
          "text": [
            "+------+---+---+------------------+-------+------+\n",
            "|  name|src|dst|          pagerank|   item|rating|\n",
            "+------+---+---+------------------+-------+------+\n",
            "|worker|  1|168|14.036168656614949| online|    30|\n",
            "|worker| 14|107|13.697565136254159|offline|    40|\n",
            "|worker| 14| 81|13.697565136254159|offline|    20|\n",
            "+------+---+---+------------------+-------+------+\n",
            "only showing top 3 rows\n",
            "\n"
          ]
        }
      ]
    },
    {
      "cell_type": "code",
      "source": [
        "from pyspark.ml.feature import VectorAssembler\n",
        "assembler=VectorAssembler(inputCols=['pagerank','rating_int'], outputCol='all_features')"
      ],
      "metadata": {
        "id": "Wm6uUnvySvtz"
      },
      "execution_count": 33,
      "outputs": []
    },
    {
      "cell_type": "code",
      "source": [
        "cluster_data.dtypes"
      ],
      "metadata": {
        "colab": {
          "base_uri": "https://localhost:8080/"
        },
        "id": "1HXvEg87TAO-",
        "outputId": "33f39688-6ff2-4f84-d413-37b2d8660a1c"
      },
      "execution_count": 34,
      "outputs": [
        {
          "output_type": "execute_result",
          "data": {
            "text/plain": [
              "[('name', 'string'),\n",
              " ('src', 'string'),\n",
              " ('dst', 'string'),\n",
              " ('pagerank', 'double'),\n",
              " ('item', 'string'),\n",
              " ('rating', 'string')]"
            ]
          },
          "metadata": {},
          "execution_count": 34
        }
      ]
    },
    {
      "cell_type": "markdown",
      "source": [
        "For further analysis into a the vector assembler, all the included column must be of the type int."
      ],
      "metadata": {
        "id": "eixUa952lWA8"
      }
    },
    {
      "cell_type": "code",
      "source": [
        "from pyspark.sql.functions import col                                            #converting rating string to int\n",
        "cluster1_data = cluster_data.withColumn('rating_int', col('rating').cast('int'))\n",
        "cluster1_data=cluster1_data.drop(\"rating\")"
      ],
      "metadata": {
        "id": "4-YN1nd3TAMm"
      },
      "execution_count": 35,
      "outputs": []
    },
    {
      "cell_type": "code",
      "source": [
        "cluster_data3=cluster_data2.withColumn('rating_int', col('rating').cast('int'))\n",
        "cluster_data3=cluster_data3.drop(\"rating\")"
      ],
      "metadata": {
        "id": "ZfVr4wVvS_kn"
      },
      "execution_count": 36,
      "outputs": []
    },
    {
      "cell_type": "code",
      "source": [
        "cluster_data3.show(3)"
      ],
      "metadata": {
        "colab": {
          "base_uri": "https://localhost:8080/"
        },
        "id": "YaLjstMbS_hn",
        "outputId": "18de1778-8c07-4f5b-c0f9-675deb9f9c70"
      },
      "execution_count": 37,
      "outputs": [
        {
          "output_type": "stream",
          "name": "stdout",
          "text": [
            "+------+---+---+------------------+-------+----------+\n",
            "|  name|src|dst|          pagerank|   item|rating_int|\n",
            "+------+---+---+------------------+-------+----------+\n",
            "|worker|  1|168|14.036168656614949| online|        30|\n",
            "|worker| 14|107|13.697565136254159|offline|        40|\n",
            "|worker| 14| 81|13.697565136254159|offline|        20|\n",
            "+------+---+---+------------------+-------+----------+\n",
            "only showing top 3 rows\n",
            "\n"
          ]
        }
      ]
    },
    {
      "cell_type": "code",
      "source": [
        "cluster1_data.show(3)"
      ],
      "metadata": {
        "colab": {
          "base_uri": "https://localhost:8080/"
        },
        "id": "9K9ocyNTS_fA",
        "outputId": "b5958b71-4b8a-479e-8c5a-38d5cf43c4a1"
      },
      "execution_count": 38,
      "outputs": [
        {
          "output_type": "stream",
          "name": "stdout",
          "text": [
            "+------+---+---+------------------+---------+----------+\n",
            "|  name|src|dst|          pagerank|     item|rating_int|\n",
            "+------+---+---+------------------+---------+----------+\n",
            "|worker|116| 51|14.036168656614949|  pencils|         4|\n",
            "|worker|116|145|14.036168656614949|   laptop|         3|\n",
            "|worker|116|134|14.036168656614949|mouse pad|         3|\n",
            "+------+---+---+------------------+---------+----------+\n",
            "only showing top 3 rows\n",
            "\n"
          ]
        }
      ]
    },
    {
      "cell_type": "code",
      "source": [
        "newdata=assembler.transform(cluster1_data)\n",
        "newdata.show(3, truncate=False)"
      ],
      "metadata": {
        "colab": {
          "base_uri": "https://localhost:8080/"
        },
        "id": "QnouLJAWS_Yu",
        "outputId": "13e2b79b-0c79-4948-d6da-1a747be9290c"
      },
      "execution_count": 43,
      "outputs": [
        {
          "output_type": "stream",
          "name": "stdout",
          "text": [
            "+------+---+---+------------------+---------+----------+------------------------+\n",
            "|name  |src|dst|pagerank          |item     |rating_int|all_features            |\n",
            "+------+---+---+------------------+---------+----------+------------------------+\n",
            "|worker|116|51 |14.036168656614949|pencils  |4         |[14.036168656614949,4.0]|\n",
            "|worker|116|145|14.036168656614949|laptop   |3         |[14.036168656614949,3.0]|\n",
            "|worker|116|134|14.036168656614949|mouse pad|3         |[14.036168656614949,3.0]|\n",
            "+------+---+---+------------------+---------+----------+------------------------+\n",
            "only showing top 3 rows\n",
            "\n"
          ]
        }
      ]
    },
    {
      "cell_type": "code",
      "source": [
        "newdata1=assembler.transform(cluster_data3)\n",
        "newdata1.show(3, truncate = False)"
      ],
      "metadata": {
        "colab": {
          "base_uri": "https://localhost:8080/"
        },
        "id": "yY2Ckaq5S_QY",
        "outputId": "b2d55b2f-698b-4e71-a739-6dd3b46bbfcd"
      },
      "execution_count": 42,
      "outputs": [
        {
          "output_type": "stream",
          "name": "stdout",
          "text": [
            "+------+---+---+------------------+-------+----------+-------------------------+\n",
            "|name  |src|dst|pagerank          |item   |rating_int|all_features             |\n",
            "+------+---+---+------------------+-------+----------+-------------------------+\n",
            "|worker|1  |168|14.036168656614949|online |30        |[14.036168656614949,30.0]|\n",
            "|worker|14 |107|13.697565136254159|offline|40        |[13.697565136254159,40.0]|\n",
            "|worker|14 |81 |13.697565136254159|offline|20        |[13.697565136254159,20.0]|\n",
            "+------+---+---+------------------+-------+----------+-------------------------+\n",
            "only showing top 3 rows\n",
            "\n"
          ]
        }
      ]
    },
    {
      "cell_type": "markdown",
      "source": [
        "<h1><b>Clustering</h1>"
      ],
      "metadata": {
        "id": "57z18fKEl2NB"
      }
    },
    {
      "cell_type": "code",
      "source": [
        "from pyspark.ml.clustering import KMeans"
      ],
      "metadata": {
        "id": "3CDf3Ru7S_N-"
      },
      "execution_count": 44,
      "outputs": []
    },
    {
      "cell_type": "code",
      "source": [
        "kmeans=KMeans(featuresCol=\"all_features\").setK(5).setSeed(10)\n",
        "results=kmeans.fit(newdata).transform(newdata)\n",
        "results.show(3, truncate = False)"
      ],
      "metadata": {
        "colab": {
          "base_uri": "https://localhost:8080/"
        },
        "id": "LOAnWdxISYd2",
        "outputId": "5db37aaf-0beb-4672-9a47-4b72df95f6a0"
      },
      "execution_count": 46,
      "outputs": [
        {
          "output_type": "stream",
          "name": "stdout",
          "text": [
            "+------+---+---+------------------+---------+----------+------------------------+----------+\n",
            "|name  |src|dst|pagerank          |item     |rating_int|all_features            |prediction|\n",
            "+------+---+---+------------------+---------+----------+------------------------+----------+\n",
            "|worker|116|51 |14.036168656614949|pencils  |4         |[14.036168656614949,4.0]|4         |\n",
            "|worker|116|145|14.036168656614949|laptop   |3         |[14.036168656614949,3.0]|4         |\n",
            "|worker|116|134|14.036168656614949|mouse pad|3         |[14.036168656614949,3.0]|4         |\n",
            "+------+---+---+------------------+---------+----------+------------------------+----------+\n",
            "only showing top 3 rows\n",
            "\n"
          ]
        }
      ]
    },
    {
      "cell_type": "code",
      "source": [
        "results1=kmeans.fit(newdata1).transform(newdata1)\n",
        "results1.show(3, truncate=False)"
      ],
      "metadata": {
        "colab": {
          "base_uri": "https://localhost:8080/"
        },
        "id": "3gzs3qu_SYbW",
        "outputId": "47ead34b-d05d-460c-8e5c-59a54cfe75ec"
      },
      "execution_count": 47,
      "outputs": [
        {
          "output_type": "stream",
          "name": "stdout",
          "text": [
            "+------+---+---+------------------+-------+----------+-------------------------+----------+\n",
            "|name  |src|dst|pagerank          |item   |rating_int|all_features             |prediction|\n",
            "+------+---+---+------------------+-------+----------+-------------------------+----------+\n",
            "|worker|1  |168|14.036168656614949|online |30        |[14.036168656614949,30.0]|4         |\n",
            "|worker|14 |107|13.697565136254159|offline|40        |[13.697565136254159,40.0]|0         |\n",
            "|worker|14 |81 |13.697565136254159|offline|20        |[13.697565136254159,20.0]|2         |\n",
            "+------+---+---+------------------+-------+----------+-------------------------+----------+\n",
            "only showing top 3 rows\n",
            "\n"
          ]
        }
      ]
    },
    {
      "cell_type": "code",
      "source": [
        "cluster1=results1.filter(results1['prediction']==0)\n",
        "print(\"Cluster 1 based on manages relation\",cluster1.select('item').count())\n",
        "\n",
        "cluster1_=results.filter(results['prediction']==0)\n",
        "print(\"Cluster 1 based on buys relation\",cluster1_.select('item').count())"
      ],
      "metadata": {
        "id": "mI40Rc-1RCHG",
        "colab": {
          "base_uri": "https://localhost:8080/"
        },
        "outputId": "38b98d8c-7568-49b9-f481-fce79b8099ca"
      },
      "execution_count": 50,
      "outputs": [
        {
          "output_type": "stream",
          "name": "stdout",
          "text": [
            "Cluster 1 based on manages relation 70\n",
            "Cluster 1 based on buys relation 143\n"
          ]
        }
      ]
    },
    {
      "cell_type": "code",
      "source": [
        "cluster2=results1.filter(results1['prediction']==1)\n",
        "print(\"Cluster 2 based on manages relation\",cluster2.select('item').count())\n",
        "\n",
        "cluster2_=results.filter(results['prediction']==1)\n",
        "print(\"Cluster 2 based on buys relation\",cluster2_.select('item').count())"
      ],
      "metadata": {
        "colab": {
          "base_uri": "https://localhost:8080/"
        },
        "id": "PmO5SgxNRCEd",
        "outputId": "1e4ff9cc-8e89-498f-d724-b9348d9d8e0e"
      },
      "execution_count": 51,
      "outputs": [
        {
          "output_type": "stream",
          "name": "stdout",
          "text": [
            "Cluster 2 based on manages relation 116\n",
            "Cluster 2 based on buys relation 122\n"
          ]
        }
      ]
    },
    {
      "cell_type": "code",
      "source": [
        "cluster3=results1.filter(results1['prediction']==2)\n",
        "print(\"Cluster 3 for manages relation\",cluster3.select('item').count())\n",
        "\n",
        "cluster3_=results.filter(results['prediction']==2)\n",
        "print(\"Cluster 3 for buys relation\",cluster3_.select('item').count())"
      ],
      "metadata": {
        "colab": {
          "base_uri": "https://localhost:8080/"
        },
        "id": "9NZARDz2TOSP",
        "outputId": "34a1e5cf-cbbd-4894-c4e9-4d5afeae484f"
      },
      "execution_count": 52,
      "outputs": [
        {
          "output_type": "stream",
          "name": "stdout",
          "text": [
            "Cluster 3 for manages relation 78\n",
            "Cluster 3 for buys relation 24\n"
          ]
        }
      ]
    },
    {
      "cell_type": "code",
      "source": [
        "cluster4=results1.filter(results1['prediction']==3)\n",
        "print(\"Cluster 4 for manages relation\",cluster4.select('item').count())\n",
        "\n",
        "cluster4_=results.filter(results['prediction']==3)\n",
        "print(\"Cluster 4 for buys relation\",cluster4_.select('item').count())"
      ],
      "metadata": {
        "colab": {
          "base_uri": "https://localhost:8080/"
        },
        "id": "8rJhJwcpTOQC",
        "outputId": "47bd8163-b821-41aa-9a02-7d0b47475965"
      },
      "execution_count": 53,
      "outputs": [
        {
          "output_type": "stream",
          "name": "stdout",
          "text": [
            "Cluster 4 for manages relation 104\n",
            "Cluster 4 for buys relation 98\n"
          ]
        }
      ]
    },
    {
      "cell_type": "code",
      "source": [
        "cluster5=results1.filter(results1['prediction']==4)\n",
        "print(\"Cluster 5 for manage relation\",cluster5.select('item').count())\n",
        "\n",
        "cluster5_=results.filter(results['prediction']==4)\n",
        "print(\"Cluster 5 for buys relation\",cluster5_.select('item').count())"
      ],
      "metadata": {
        "colab": {
          "base_uri": "https://localhost:8080/"
        },
        "id": "_Zd21sAjh9zy",
        "outputId": "73932c35-6794-45ac-c5b7-b3193e236ec8"
      },
      "execution_count": 54,
      "outputs": [
        {
          "output_type": "stream",
          "name": "stdout",
          "text": [
            "Cluster 5 for manage relation 240\n",
            "Cluster 5 for buys relation 5\n"
          ]
        }
      ]
    },
    {
      "cell_type": "markdown",
      "source": [
        "**Inference:**\n",
        "The distinct clusters suggest that there are different groups or categories within the dataset.Each cluster represents a set of data points with similar characteristics based on the features (Feature 1 and Feature 2).The alignment of clusters along the Feature 2 axis indicates that Feature 2 plays a significant role in defining these groups.Feature 1, on the other hand, does not show a clear pattern in clustering, but it still affects the density within each cluster.\n",
        "The varying densities within each cluster imply that there might be subgroups within the identified clusters.Some clusters have higher concentrations of data points (yellow regions), while others have lower densities (purple regions).\n",
        "\n"
      ],
      "metadata": {
        "id": "hc_7Zs75w65r"
      }
    },
    {
      "cell_type": "code",
      "source": [
        "#Plotting the kmeans clusters\n",
        "\n",
        "import plotly.graph_objects as go\n",
        "cluster_assignments = results1.select('prediction').rdd.map(lambda row: row[0]).collect()\n",
        "features = newdata1.select('all_features').rdd.map(lambda row: row[0]).collect()\n",
        "x_values = [feat[0] for feat in features]\n",
        "y_values = [feat[1] for feat in features]\n",
        "\n",
        "fig = go.Figure(data=go.Scattergl(x=x_values, y=y_values, mode='markers', marker=dict(color=cluster_assignments, colorscale='viridis')))\n",
        "\n",
        "fig.update_layout(title='KMeans Plot(Manages relation)',\n",
        "                  xaxis_title='Page Rank',\n",
        "                  yaxis_title='Rating',\n",
        "                  coloraxis=dict(colorscale='viridis', colorbar=dict(title='Cluster')))\n",
        "fig.show()\n"
      ],
      "metadata": {
        "colab": {
          "base_uri": "https://localhost:8080/",
          "height": 542
        },
        "id": "UIYp1K-_TOLI",
        "outputId": "7296cfa0-f94f-4bba-9957-72aac0b801ac"
      },
      "execution_count": 55,
      "outputs": [
        {
          "output_type": "display_data",
          "data": {
            "text/html": [
              "<html>\n",
              "<head><meta charset=\"utf-8\" /></head>\n",
              "<body>\n",
              "    <div>            <script src=\"https://cdnjs.cloudflare.com/ajax/libs/mathjax/2.7.5/MathJax.js?config=TeX-AMS-MML_SVG\"></script><script type=\"text/javascript\">if (window.MathJax && window.MathJax.Hub && window.MathJax.Hub.Config) {window.MathJax.Hub.Config({SVG: {font: \"STIX-Web\"}});}</script>                <script type=\"text/javascript\">window.PlotlyConfig = {MathJaxConfig: 'local'};</script>\n",
              "        <script charset=\"utf-8\" src=\"https://cdn.plot.ly/plotly-2.24.1.min.js\"></script>                <div id=\"a42f30dd-3bb7-4643-9f8b-44981195bd51\" class=\"plotly-graph-div\" style=\"height:525px; width:100%;\"></div>            <script type=\"text/javascript\">                                    window.PLOTLYENV=window.PLOTLYENV || {};                                    if (document.getElementById(\"a42f30dd-3bb7-4643-9f8b-44981195bd51\")) {                    Plotly.newPlot(                        \"a42f30dd-3bb7-4643-9f8b-44981195bd51\",                        [{\"marker\":{\"color\":[4,0,2,4,0,2,4,2,4,1,4,4,3,4,0,2,4,0,4,4,1,4,4,4,0,0,3,2,4,3,1,0,2,4,4,3,4,0,4,1,3,4,3,1,3,4,4,1,3,4,1,4,4,2,4,1,4,1,3,2,4,3,1,3,4,1,4,4,3,4,1,4,4,1,0,4,3,2,4,3,1,2,4,1,1,0,4,3,2,4,3,1,4,1,4,3,4,2,4,1,3,1,3,4,4,1,4,3,4,4,1,1,0,4,4,4,4,1,4,4,4,3,4,1,4,4,2,4,1,1,0,4,3,4,1,4,4,0,3,2,4,3,1,4,3,4,4,4,1,4,2,4,1,3,4,1,4,4,4,3,1,3,4,4,4,1,4,3,4,4,3,4,1,4,4,4,3,4,3,1,3,4,4,4,1,0,4,4,3,4,3,1,3,4,4,0,4,4,1,4,4,4,1,4,3,4,0,2,4,3,2,4,3,1,0,4,4,1,0,4,4,0,2,4,0,4,3,4,3,4,4,3,4,3,2,4,3,1,4,1,2,4,1,2,4,1,1,0,4,3,1,3,4,3,1,3,4,1,0,4,4,4,1,4,3,2,4,3,1,4,1,0,4,4,4,4,1,4,0,2,4,4,4,1,4,3,4,3,4,1,4,4,4,1,0,2,4,4,4,1,0,2,4,1,2,4,1,3,1,3,4,0,2,4,4,3,1,3,4,0,2,4,1,0,4,3,2,4,3,1,4,4,1,4,3,4,1,4,4,0,4,3,4,3,1,3,4,4,3,4,1,4,4,3,2,4,3,1,3,4,4,4,0,0,2,2,4,1,4,1,2,3,4,1,4,3,4,1,0,4,4,4,1,4,0,3,1,3,4,4,3,4,1,4,4,4,0,2,4,2,4,1,3,2,4,3,1,3,4,4,3,4,4,1,0,1,0,0,2,4,2,0,0,1,2,4,0,0,0,2,2,4,4,0,2,0,2,2,3,4,0,0,2,1,4,4,0,1,0,4,2,2,4,3,0,3,4,0,3,2,3,3,4,3,0,0,3,0,2,4,0,0,0,2,3,4,0,0,0,1,2,3,2,4,4,3,0,1,2,4,0,1,3,3,4,1,0,2,4,4,4,1,2,4,2,1,1,2,3,2,4,3,1,2,4,4,4,1,2,4,4,1,4,1,2,1,2,4,4,4,4,1,4,4,4,3,2,4,0,0,1,1,4,2,0,4,1,2,1,0,1,0,4,3,1,2,2,3,3,4,1,2,3,3,4,1,2,3,2,4,1,2,1,3,2,4,1,2,3,0,2,4,1,1,2,3,3,4,4,1,1,2,1,4,3,4,4,1,2,3,4,1,0,4,1,2,3,1],\"colorscale\":[[0.0,\"#440154\"],[0.1111111111111111,\"#482878\"],[0.2222222222222222,\"#3e4989\"],[0.3333333333333333,\"#31688e\"],[0.4444444444444444,\"#26828e\"],[0.5555555555555556,\"#1f9e89\"],[0.6666666666666666,\"#35b779\"],[0.7777777777777778,\"#6ece58\"],[0.8888888888888888,\"#b5de2b\"],[1.0,\"#fde725\"]]},\"mode\":\"markers\",\"x\":[14.036168656614949,13.697565136254159,13.697565136254159,13.697565136254159,11.361609807300171,11.361609807300171,11.361609807300171,11.358469492346893,11.358469492346893,11.358469492346893,9.314862111594387,8.934199749365282,8.934199749365282,8.934199749365282,8.630717578208252,8.630717578208252,8.630717578208252,8.269886818609974,7.978091233052873,7.978091233052873,7.978091233052873,7.978091233052873,7.96861407927161,7.885009739966228,6.9300302284726865,6.70673022652916,6.644861902845732,6.644861902845732,6.644861902845732,6.644861902845732,6.644861902845732,6.533074969978541,6.533074969978541,6.533074969978541,6.257346013964667,6.257346013964667,6.257346013964667,6.246651819386722,6.068394813226532,6.068394813226532,5.961323098361945,5.961323098361945,5.931271079472601,5.931271079472601,5.931271079472601,5.931271079472601,5.808614259200488,5.808614259200488,5.568868304153968,5.568868304153968,5.568868304153968,5.568868304153968,5.568868304153968,5.525233064563602,5.525233064563602,5.525233064563602,5.3755674192649705,5.3755674192649705,5.284621318027851,5.284621318027851,5.284621318027851,5.284621318027851,5.284621318027851,5.111286606741996,5.111286606741996,5.111286606741996,5.111286606741996,5.111286606741996,5.096528758291276,5.096528758291276,5.096528758291276,5.096528758291276,5.096528758291276,4.749431925008053,4.749431925008053,4.749431925008053,4.685499048288707,4.685499048288707,4.685499048288707,4.685499048288707,4.685499048288707,4.49588539514854,4.49588539514854,4.49588539514854,4.291087774027187,4.291087774027187,4.291087774027187,4.256164817757817,4.256164817757817,4.256164817757817,4.256164817757817,4.256164817757817,4.122299258689699,4.122299258689699,4.120532362079491,4.120532362079491,4.120532362079491,4.025463008618145,4.025463008618145,4.025463008618145,3.9798801417616256,3.9798801417616256,3.9798801417616256,3.9798801417616256,3.9790534413117853,3.9790534413117853,3.7895715452505416,3.7895715452505416,3.7895715452505416,3.741958378337426,3.741958378337426,3.5387681203208627,3.5387681203208627,3.5387681203208627,3.528028390716021,3.471200265935021,3.471200265935021,3.471200265935021,3.471200265935021,3.4051099241116587,3.3597999558245766,3.351797302438651,3.351797302438651,3.351797302438651,3.351797302438651,3.351797302438651,3.2700808125152823,3.2700808125152823,3.2700808125152823,3.253419119733851,3.253419119733851,3.253419119733851,3.193672369225826,3.193672369225826,3.193672369225826,3.193672369225826,3.193672369225826,3.1892747298631225,3.1868815449133128,3.1868815449133128,3.1868815449133128,3.1868815449133128,3.1868815449133128,3.1303473067238445,3.1303473067238445,3.1303473067238445,3.1212506039473498,3.1212506039473498,3.1212506039473498,3.1212506039473498,3.0780230284478076,3.0780230284478076,3.0780230284478076,3.0566788771679843,3.0566788771679843,3.0566788771679843,3.0566788771679843,3.0566788771679843,3.0460389347856665,3.011941188984398,3.011941188984398,3.011941188984398,3.011941188984398,2.9905511311795423,2.9905511311795423,2.9905511311795423,2.9905511311795423,2.972192508361691,2.972192508361691,2.969616578365654,2.8878439682527004,2.8878439682527004,2.8878439682527004,2.8878439682527004,2.8878439682527004,2.8345488164235273,2.8345488164235273,2.8345488164235273,2.8045427105724277,2.8045427105724277,2.8045427105724277,2.8045427105724277,2.7407734187228816,2.703123306715855,2.6468212417070447,2.6468212417070447,2.6468212417070447,2.618326262203684,2.618326262203684,2.618326262203684,2.563582888368682,2.563582888368682,2.563582888368682,2.563582888368682,2.511012569724507,2.4971537907629795,2.413564636657518,2.413564636657518,2.413564636657518,2.413564636657518,2.4051925090027733,2.4051925090027733,2.4051925090027733,2.4051925090027733,2.3918797315243903,2.3918797315243903,2.3836727766151578,2.3836727766151578,2.3836727766151578,2.3648032337222604,2.3648032337222604,2.3648032337222604,2.3648032337222604,2.3648032337222604,2.3624205336697615,2.357044950824891,2.3062768237491214,2.2956394874098303,2.2956394874098303,2.2956394874098303,2.276087691547294,2.275757348580003,2.275757348580003,2.275757348580003,2.2641714771251418,2.2457472460090737,2.2457472460090737,2.2457472460090737,2.1787069795282363,2.1787069795282363,2.1191953626090534,2.1191953626090534,2.1191953626090534,2.103478673756839,2.103478673756839,2.103478673756839,2.103478673756839,2.103478673756839,2.09173698763858,2.09173698763858,2.087445261222842,2.087445261222842,2.087445261222842,2.0676181356477574,2.0676181356477574,2.0676181356477574,1.9517835721245753,1.9517835721245753,1.9517835721245753,1.9013355922054898,1.9013355922054898,1.9013355922054898,1.9013355922054898,1.8465895615582602,1.8465895615582602,1.8465895615582602,1.8465895615582602,1.8228485316185843,1.8228485316185843,1.8228485316185843,1.7266528495020834,1.7266528495020834,1.7266528495020834,1.7266528495020834,1.6375299892614705,1.6375299892614705,1.6375299892614705,1.6375299892614705,1.6375299892614705,1.5792137735575877,1.536207038269994,1.536207038269994,1.536207038269994,1.4692332852502843,1.4516705998286228,1.4516705998286228,1.4516705998286228,1.4516705998286228,1.4185683905326445,1.4185683905326445,1.4185683905326445,1.3977916678085225,1.3977916678085225,1.3977916678085225,1.3977916678085225,1.3953390925481977,1.3953390925481977,1.3700241698712599,1.3700241698712599,1.3700241698712599,1.3700241698712599,1.3700241698712599,1.344706048271597,1.344706048271597,1.3186815773246208,1.3186815773246208,1.3186815773246208,1.2234681003346366,1.2065337215728515,1.2065337215728515,1.1935495084335477,1.1781521834683544,1.1781521834683544,1.1781521834683544,1.1759382744340436,1.1759382744340436,1.1759382744340436,1.1633823462994877,1.1633823462994877,1.1633823462994877,1.1633823462994877,1.1577868067393822,1.1577868067393822,1.1577868067393822,1.1054291224606916,1.0191687500006228,1.0191687500006228,1.0191687500006228,1.0191687500006228,0.8998005574867503,0.8998005574867503,0.8998005574867503,0.7560538221101256,0.7560538221101256,0.7560538221101256,0.7066159729628539,0.7066159729628539,0.7066159729628539,0.7066159729628539,0.7066159729628539,0.6942478595667699,0.6942478595667699,0.6942478595667699,0.6942478595667699,0.6722254991240776,0.6722254991240776,0.6722254991240776,0.6722254991240776,0.6722254991240776,0.6251453601358895,0.5692268940592002,0.5692268940592002,0.5692268940592002,0.5355276860262287,0.5355276860262287,0.5355276860262287,0.5355276860262287,0.44739129578614883,0.4214688280684783,0.4214688280684783,0.4214688280684783,0.4214688280684783,0.4214688280684783,0.4173712162775558,0.4173712162775558,0.4173712162775558,0.4173712162775558,0.4173712162775558,0.3997766602016867,0.3997766602016867,0.18298212506590952,0.18298212506590952,0.18298212506590952,0.18298212506590952,0.18298212506590952,0.18298212506590952,0.18298212506590952,0.18298212506590952,0.18298212506590952,0.18298212506590952,0.18298212506590952,0.18298212506590952,0.18298212506590952,0.18298212506590952,0.18298212506590952,0.18298212506590952,0.18298212506590952,0.18298212506590952,0.18298212506590952,0.18298212506590952,0.18298212506590952,0.18298212506590952,0.18298212506590952,0.18298212506590952,0.18298212506590952,0.18298212506590952,0.18298212506590952,0.18298212506590952,0.18298212506590952,0.18298212506590952,0.18298212506590952,0.18298212506590952,0.18298212506590952,0.18298212506590952,0.18298212506590952,0.18298212506590952,0.18298212506590952,0.18298212506590952,0.18298212506590952,0.18298212506590952,0.18298212506590952,0.18298212506590952,0.18298212506590952,0.18298212506590952,0.18298212506590952,0.18298212506590952,0.18298212506590952,0.18298212506590952,0.18298212506590952,0.18298212506590952,0.18298212506590952,0.18298212506590952,0.18298212506590952,0.18298212506590952,0.18298212506590952,0.18298212506590952,0.18298212506590952,0.18298212506590952,0.18298212506590952,0.18298212506590952,0.18298212506590952,0.18298212506590952,0.18298212506590952,0.18298212506590952,0.18298212506590952,0.18298212506590952,0.18298212506590952,0.18298212506590952,0.18298212506590952,0.18298212506590952,0.18298212506590952,0.18298212506590952,0.18298212506590952,0.18298212506590952,0.18298212506590952,0.18298212506590952,0.18298212506590952,0.18298212506590952,0.18298212506590952,0.18298212506590952,0.18298212506590952,0.18298212506590952,0.18298212506590952,0.18298212506590952,0.18298212506590952,0.18298212506590952,0.18298212506590952,0.18298212506590952,0.18298212506590952,0.18298212506590952,0.18298212506590952,0.18298212506590952,0.18298212506590952,0.18298212506590952,0.18298212506590952,0.18298212506590952,0.18298212506590952,0.18298212506590952,0.18298212506590952,0.18298212506590952,0.18298212506590952,0.18298212506590952,0.18298212506590952,0.18298212506590952,0.18298212506590952,0.18298212506590952,0.18298212506590952,0.18298212506590952,0.18298212506590952,0.18298212506590952,0.18298212506590952,0.18298212506590952,0.18298212506590952,0.18298212506590952,0.18298212506590952,0.18298212506590952,0.18298212506590952,0.18298212506590952,0.18298212506590952,0.18298212506590952,0.18298212506590952,0.18298212506590952,0.18298212506590952,0.18298212506590952,0.18298212506590952,0.18298212506590952,0.18298212506590952,0.18298212506590952,0.18298212506590952,0.18298212506590952,0.18298212506590952,0.18298212506590952,0.18298212506590952,0.18298212506590952,0.18298212506590952,0.18298212506590952,0.18298212506590952,0.18298212506590952,0.18298212506590952,0.18298212506590952,0.18298212506590952,0.18298212506590952,0.18298212506590952,0.18298212506590952,0.18298212506590952,0.18298212506590952,0.18298212506590952,0.18298212506590952,0.18298212506590952,0.18298212506590952,0.18298212506590952,0.18298212506590952,0.18298212506590952,0.18298212506590952,0.18298212506590952,0.18298212506590952,0.18298212506590952,0.18298212506590952,0.18298212506590952,0.18298212506590952,0.18298212506590952,0.18298212506590952,0.18298212506590952,0.18298212506590952,0.18298212506590952,0.18298212506590952,0.18298212506590952,0.18298212506590952,0.18298212506590952,0.18298212506590952,0.18298212506590952,0.18298212506590952,0.18298212506590952,0.18298212506590952,0.18298212506590952,0.18298212506590952,0.18298212506590952,0.18298212506590952,0.18298212506590952,0.18298212506590952,0.18298212506590952,0.18298212506590952,0.18298212506590952,0.18298212506590952,0.18298212506590952,0.18298212506590952,0.18298212506590952,0.18298212506590952,0.18298212506590952,0.18298212506590952,0.18298212506590952,0.18298212506590952,0.18298212506590952,0.18298212506590952,0.18298212506590952,0.18298212506590952,0.18298212506590952,0.18298212506590952,0.18298212506590952,0.18298212506590952,0.18298212506590952,0.18298212506590952,0.18298212506590952,0.18298212506590952,0.18298212506590952,0.18298212506590952,0.18298212506590952,0.18298212506590952,0.18298212506590952,0.18298212506590952,0.18298212506590952,0.18298212506590952,0.18298212506590952,0.18298212506590952,0.18298212506590952,0.18298212506590952,0.18298212506590952,0.18298212506590952,0.18298212506590952,0.18298212506590952,0.18298212506590952,0.18298212506590952,0.18298212506590952,0.18298212506590952,0.18298212506590952,0.18298212506590952,0.18298212506590952,0.18298212506590952,0.18298212506590952,0.18298212506590952,0.18298212506590952,0.18298212506590952,0.18298212506590952,0.18298212506590952,0.18298212506590952,0.18298212506590952,0.18298212506590952,0.18298212506590952,0.18298212506590952,0.18298212506590952,0.18298212506590952,0.18298212506590952,0.18298212506590952,0.18298212506590952,0.18298212506590952,0.18298212506590952,0.18298212506590952,0.18298212506590952],\"y\":[30.0,40.0,20.0,30.0,40.0,20.0,30.0,20.0,30.0,10.0,30.0,30.0,50.0,30.0,40.0,20.0,30.0,40.0,30.0,30.0,10.0,30.0,30.0,30.0,40.0,40.0,50.0,20.0,30.0,50.0,10.0,40.0,20.0,30.0,30.0,50.0,30.0,40.0,30.0,10.0,50.0,30.0,50.0,10.0,50.0,30.0,30.0,10.0,50.0,30.0,10.0,30.0,30.0,20.0,30.0,10.0,30.0,10.0,50.0,20.0,30.0,50.0,10.0,50.0,30.0,10.0,30.0,30.0,50.0,30.0,10.0,30.0,30.0,10.0,40.0,30.0,50.0,20.0,30.0,50.0,10.0,20.0,30.0,10.0,10.0,40.0,30.0,50.0,20.0,30.0,50.0,10.0,30.0,10.0,30.0,50.0,30.0,20.0,30.0,10.0,50.0,10.0,50.0,30.0,30.0,10.0,30.0,50.0,30.0,30.0,10.0,10.0,40.0,30.0,30.0,30.0,30.0,10.0,30.0,30.0,30.0,50.0,30.0,10.0,30.0,30.0,20.0,30.0,10.0,10.0,40.0,30.0,50.0,30.0,10.0,30.0,30.0,40.0,50.0,20.0,30.0,50.0,10.0,30.0,50.0,30.0,30.0,30.0,10.0,30.0,20.0,30.0,10.0,50.0,30.0,10.0,30.0,30.0,30.0,50.0,10.0,50.0,30.0,30.0,30.0,10.0,30.0,50.0,30.0,30.0,50.0,30.0,10.0,30.0,30.0,30.0,50.0,30.0,50.0,10.0,50.0,30.0,30.0,30.0,10.0,40.0,30.0,30.0,50.0,30.0,50.0,10.0,50.0,30.0,30.0,40.0,30.0,30.0,10.0,30.0,30.0,30.0,10.0,30.0,50.0,30.0,40.0,20.0,30.0,50.0,20.0,30.0,50.0,10.0,40.0,30.0,30.0,10.0,40.0,30.0,30.0,40.0,20.0,30.0,40.0,30.0,50.0,30.0,50.0,30.0,30.0,50.0,30.0,50.0,20.0,30.0,50.0,10.0,30.0,10.0,20.0,30.0,10.0,20.0,30.0,10.0,10.0,40.0,30.0,50.0,10.0,50.0,30.0,50.0,10.0,50.0,30.0,10.0,40.0,30.0,30.0,30.0,10.0,30.0,50.0,20.0,30.0,50.0,10.0,30.0,10.0,40.0,30.0,30.0,30.0,30.0,10.0,30.0,40.0,20.0,30.0,30.0,30.0,10.0,30.0,50.0,30.0,50.0,30.0,10.0,30.0,30.0,30.0,10.0,40.0,20.0,30.0,30.0,30.0,10.0,40.0,20.0,30.0,10.0,20.0,30.0,10.0,50.0,10.0,50.0,30.0,40.0,20.0,30.0,30.0,50.0,10.0,50.0,30.0,40.0,20.0,30.0,10.0,40.0,30.0,50.0,20.0,30.0,50.0,10.0,30.0,30.0,10.0,30.0,50.0,30.0,10.0,30.0,30.0,40.0,30.0,50.0,30.0,50.0,10.0,50.0,30.0,30.0,50.0,30.0,10.0,30.0,30.0,50.0,20.0,30.0,50.0,10.0,50.0,30.0,30.0,30.0,40.0,40.0,20.0,20.0,30.0,10.0,30.0,10.0,20.0,50.0,30.0,10.0,30.0,50.0,30.0,10.0,40.0,30.0,30.0,30.0,10.0,30.0,40.0,50.0,10.0,50.0,30.0,30.0,50.0,30.0,10.0,30.0,30.0,30.0,40.0,20.0,30.0,20.0,30.0,10.0,50.0,20.0,30.0,50.0,10.0,50.0,30.0,30.0,50.0,30.0,30.0,10.0,40.0,10.0,40.0,40.0,20.0,30.0,20.0,40.0,40.0,10.0,20.0,30.0,40.0,40.0,40.0,20.0,20.0,30.0,30.0,40.0,20.0,40.0,20.0,20.0,50.0,30.0,40.0,40.0,20.0,10.0,30.0,30.0,40.0,10.0,40.0,30.0,20.0,20.0,30.0,50.0,40.0,50.0,30.0,40.0,50.0,20.0,50.0,50.0,30.0,50.0,40.0,40.0,50.0,40.0,20.0,30.0,40.0,40.0,40.0,20.0,50.0,30.0,40.0,40.0,40.0,10.0,20.0,50.0,20.0,30.0,30.0,50.0,40.0,10.0,20.0,30.0,40.0,10.0,50.0,50.0,30.0,10.0,40.0,20.0,30.0,30.0,30.0,10.0,20.0,30.0,20.0,10.0,10.0,20.0,50.0,20.0,30.0,50.0,10.0,20.0,30.0,30.0,30.0,10.0,20.0,30.0,30.0,10.0,30.0,10.0,20.0,10.0,20.0,30.0,30.0,30.0,30.0,10.0,30.0,30.0,30.0,50.0,20.0,30.0,40.0,40.0,10.0,10.0,30.0,20.0,40.0,30.0,10.0,20.0,10.0,40.0,10.0,40.0,30.0,50.0,10.0,20.0,20.0,50.0,50.0,30.0,10.0,20.0,50.0,50.0,30.0,10.0,20.0,50.0,20.0,30.0,10.0,20.0,10.0,50.0,20.0,30.0,10.0,20.0,50.0,40.0,20.0,30.0,10.0,10.0,20.0,50.0,50.0,30.0,30.0,10.0,10.0,20.0,10.0,30.0,50.0,30.0,30.0,10.0,20.0,50.0,30.0,10.0,40.0,30.0,10.0,20.0,50.0,10.0],\"type\":\"scattergl\"}],                        {\"template\":{\"data\":{\"histogram2dcontour\":[{\"type\":\"histogram2dcontour\",\"colorbar\":{\"outlinewidth\":0,\"ticks\":\"\"},\"colorscale\":[[0.0,\"#0d0887\"],[0.1111111111111111,\"#46039f\"],[0.2222222222222222,\"#7201a8\"],[0.3333333333333333,\"#9c179e\"],[0.4444444444444444,\"#bd3786\"],[0.5555555555555556,\"#d8576b\"],[0.6666666666666666,\"#ed7953\"],[0.7777777777777778,\"#fb9f3a\"],[0.8888888888888888,\"#fdca26\"],[1.0,\"#f0f921\"]]}],\"choropleth\":[{\"type\":\"choropleth\",\"colorbar\":{\"outlinewidth\":0,\"ticks\":\"\"}}],\"histogram2d\":[{\"type\":\"histogram2d\",\"colorbar\":{\"outlinewidth\":0,\"ticks\":\"\"},\"colorscale\":[[0.0,\"#0d0887\"],[0.1111111111111111,\"#46039f\"],[0.2222222222222222,\"#7201a8\"],[0.3333333333333333,\"#9c179e\"],[0.4444444444444444,\"#bd3786\"],[0.5555555555555556,\"#d8576b\"],[0.6666666666666666,\"#ed7953\"],[0.7777777777777778,\"#fb9f3a\"],[0.8888888888888888,\"#fdca26\"],[1.0,\"#f0f921\"]]}],\"heatmap\":[{\"type\":\"heatmap\",\"colorbar\":{\"outlinewidth\":0,\"ticks\":\"\"},\"colorscale\":[[0.0,\"#0d0887\"],[0.1111111111111111,\"#46039f\"],[0.2222222222222222,\"#7201a8\"],[0.3333333333333333,\"#9c179e\"],[0.4444444444444444,\"#bd3786\"],[0.5555555555555556,\"#d8576b\"],[0.6666666666666666,\"#ed7953\"],[0.7777777777777778,\"#fb9f3a\"],[0.8888888888888888,\"#fdca26\"],[1.0,\"#f0f921\"]]}],\"heatmapgl\":[{\"type\":\"heatmapgl\",\"colorbar\":{\"outlinewidth\":0,\"ticks\":\"\"},\"colorscale\":[[0.0,\"#0d0887\"],[0.1111111111111111,\"#46039f\"],[0.2222222222222222,\"#7201a8\"],[0.3333333333333333,\"#9c179e\"],[0.4444444444444444,\"#bd3786\"],[0.5555555555555556,\"#d8576b\"],[0.6666666666666666,\"#ed7953\"],[0.7777777777777778,\"#fb9f3a\"],[0.8888888888888888,\"#fdca26\"],[1.0,\"#f0f921\"]]}],\"contourcarpet\":[{\"type\":\"contourcarpet\",\"colorbar\":{\"outlinewidth\":0,\"ticks\":\"\"}}],\"contour\":[{\"type\":\"contour\",\"colorbar\":{\"outlinewidth\":0,\"ticks\":\"\"},\"colorscale\":[[0.0,\"#0d0887\"],[0.1111111111111111,\"#46039f\"],[0.2222222222222222,\"#7201a8\"],[0.3333333333333333,\"#9c179e\"],[0.4444444444444444,\"#bd3786\"],[0.5555555555555556,\"#d8576b\"],[0.6666666666666666,\"#ed7953\"],[0.7777777777777778,\"#fb9f3a\"],[0.8888888888888888,\"#fdca26\"],[1.0,\"#f0f921\"]]}],\"surface\":[{\"type\":\"surface\",\"colorbar\":{\"outlinewidth\":0,\"ticks\":\"\"},\"colorscale\":[[0.0,\"#0d0887\"],[0.1111111111111111,\"#46039f\"],[0.2222222222222222,\"#7201a8\"],[0.3333333333333333,\"#9c179e\"],[0.4444444444444444,\"#bd3786\"],[0.5555555555555556,\"#d8576b\"],[0.6666666666666666,\"#ed7953\"],[0.7777777777777778,\"#fb9f3a\"],[0.8888888888888888,\"#fdca26\"],[1.0,\"#f0f921\"]]}],\"mesh3d\":[{\"type\":\"mesh3d\",\"colorbar\":{\"outlinewidth\":0,\"ticks\":\"\"}}],\"scatter\":[{\"fillpattern\":{\"fillmode\":\"overlay\",\"size\":10,\"solidity\":0.2},\"type\":\"scatter\"}],\"parcoords\":[{\"type\":\"parcoords\",\"line\":{\"colorbar\":{\"outlinewidth\":0,\"ticks\":\"\"}}}],\"scatterpolargl\":[{\"type\":\"scatterpolargl\",\"marker\":{\"colorbar\":{\"outlinewidth\":0,\"ticks\":\"\"}}}],\"bar\":[{\"error_x\":{\"color\":\"#2a3f5f\"},\"error_y\":{\"color\":\"#2a3f5f\"},\"marker\":{\"line\":{\"color\":\"#E5ECF6\",\"width\":0.5},\"pattern\":{\"fillmode\":\"overlay\",\"size\":10,\"solidity\":0.2}},\"type\":\"bar\"}],\"scattergeo\":[{\"type\":\"scattergeo\",\"marker\":{\"colorbar\":{\"outlinewidth\":0,\"ticks\":\"\"}}}],\"scatterpolar\":[{\"type\":\"scatterpolar\",\"marker\":{\"colorbar\":{\"outlinewidth\":0,\"ticks\":\"\"}}}],\"histogram\":[{\"marker\":{\"pattern\":{\"fillmode\":\"overlay\",\"size\":10,\"solidity\":0.2}},\"type\":\"histogram\"}],\"scattergl\":[{\"type\":\"scattergl\",\"marker\":{\"colorbar\":{\"outlinewidth\":0,\"ticks\":\"\"}}}],\"scatter3d\":[{\"type\":\"scatter3d\",\"line\":{\"colorbar\":{\"outlinewidth\":0,\"ticks\":\"\"}},\"marker\":{\"colorbar\":{\"outlinewidth\":0,\"ticks\":\"\"}}}],\"scattermapbox\":[{\"type\":\"scattermapbox\",\"marker\":{\"colorbar\":{\"outlinewidth\":0,\"ticks\":\"\"}}}],\"scatterternary\":[{\"type\":\"scatterternary\",\"marker\":{\"colorbar\":{\"outlinewidth\":0,\"ticks\":\"\"}}}],\"scattercarpet\":[{\"type\":\"scattercarpet\",\"marker\":{\"colorbar\":{\"outlinewidth\":0,\"ticks\":\"\"}}}],\"carpet\":[{\"aaxis\":{\"endlinecolor\":\"#2a3f5f\",\"gridcolor\":\"white\",\"linecolor\":\"white\",\"minorgridcolor\":\"white\",\"startlinecolor\":\"#2a3f5f\"},\"baxis\":{\"endlinecolor\":\"#2a3f5f\",\"gridcolor\":\"white\",\"linecolor\":\"white\",\"minorgridcolor\":\"white\",\"startlinecolor\":\"#2a3f5f\"},\"type\":\"carpet\"}],\"table\":[{\"cells\":{\"fill\":{\"color\":\"#EBF0F8\"},\"line\":{\"color\":\"white\"}},\"header\":{\"fill\":{\"color\":\"#C8D4E3\"},\"line\":{\"color\":\"white\"}},\"type\":\"table\"}],\"barpolar\":[{\"marker\":{\"line\":{\"color\":\"#E5ECF6\",\"width\":0.5},\"pattern\":{\"fillmode\":\"overlay\",\"size\":10,\"solidity\":0.2}},\"type\":\"barpolar\"}],\"pie\":[{\"automargin\":true,\"type\":\"pie\"}]},\"layout\":{\"autotypenumbers\":\"strict\",\"colorway\":[\"#636efa\",\"#EF553B\",\"#00cc96\",\"#ab63fa\",\"#FFA15A\",\"#19d3f3\",\"#FF6692\",\"#B6E880\",\"#FF97FF\",\"#FECB52\"],\"font\":{\"color\":\"#2a3f5f\"},\"hovermode\":\"closest\",\"hoverlabel\":{\"align\":\"left\"},\"paper_bgcolor\":\"white\",\"plot_bgcolor\":\"#E5ECF6\",\"polar\":{\"bgcolor\":\"#E5ECF6\",\"angularaxis\":{\"gridcolor\":\"white\",\"linecolor\":\"white\",\"ticks\":\"\"},\"radialaxis\":{\"gridcolor\":\"white\",\"linecolor\":\"white\",\"ticks\":\"\"}},\"ternary\":{\"bgcolor\":\"#E5ECF6\",\"aaxis\":{\"gridcolor\":\"white\",\"linecolor\":\"white\",\"ticks\":\"\"},\"baxis\":{\"gridcolor\":\"white\",\"linecolor\":\"white\",\"ticks\":\"\"},\"caxis\":{\"gridcolor\":\"white\",\"linecolor\":\"white\",\"ticks\":\"\"}},\"coloraxis\":{\"colorbar\":{\"outlinewidth\":0,\"ticks\":\"\"}},\"colorscale\":{\"sequential\":[[0.0,\"#0d0887\"],[0.1111111111111111,\"#46039f\"],[0.2222222222222222,\"#7201a8\"],[0.3333333333333333,\"#9c179e\"],[0.4444444444444444,\"#bd3786\"],[0.5555555555555556,\"#d8576b\"],[0.6666666666666666,\"#ed7953\"],[0.7777777777777778,\"#fb9f3a\"],[0.8888888888888888,\"#fdca26\"],[1.0,\"#f0f921\"]],\"sequentialminus\":[[0.0,\"#0d0887\"],[0.1111111111111111,\"#46039f\"],[0.2222222222222222,\"#7201a8\"],[0.3333333333333333,\"#9c179e\"],[0.4444444444444444,\"#bd3786\"],[0.5555555555555556,\"#d8576b\"],[0.6666666666666666,\"#ed7953\"],[0.7777777777777778,\"#fb9f3a\"],[0.8888888888888888,\"#fdca26\"],[1.0,\"#f0f921\"]],\"diverging\":[[0,\"#8e0152\"],[0.1,\"#c51b7d\"],[0.2,\"#de77ae\"],[0.3,\"#f1b6da\"],[0.4,\"#fde0ef\"],[0.5,\"#f7f7f7\"],[0.6,\"#e6f5d0\"],[0.7,\"#b8e186\"],[0.8,\"#7fbc41\"],[0.9,\"#4d9221\"],[1,\"#276419\"]]},\"xaxis\":{\"gridcolor\":\"white\",\"linecolor\":\"white\",\"ticks\":\"\",\"title\":{\"standoff\":15},\"zerolinecolor\":\"white\",\"automargin\":true,\"zerolinewidth\":2},\"yaxis\":{\"gridcolor\":\"white\",\"linecolor\":\"white\",\"ticks\":\"\",\"title\":{\"standoff\":15},\"zerolinecolor\":\"white\",\"automargin\":true,\"zerolinewidth\":2},\"scene\":{\"xaxis\":{\"backgroundcolor\":\"#E5ECF6\",\"gridcolor\":\"white\",\"linecolor\":\"white\",\"showbackground\":true,\"ticks\":\"\",\"zerolinecolor\":\"white\",\"gridwidth\":2},\"yaxis\":{\"backgroundcolor\":\"#E5ECF6\",\"gridcolor\":\"white\",\"linecolor\":\"white\",\"showbackground\":true,\"ticks\":\"\",\"zerolinecolor\":\"white\",\"gridwidth\":2},\"zaxis\":{\"backgroundcolor\":\"#E5ECF6\",\"gridcolor\":\"white\",\"linecolor\":\"white\",\"showbackground\":true,\"ticks\":\"\",\"zerolinecolor\":\"white\",\"gridwidth\":2}},\"shapedefaults\":{\"line\":{\"color\":\"#2a3f5f\"}},\"annotationdefaults\":{\"arrowcolor\":\"#2a3f5f\",\"arrowhead\":0,\"arrowwidth\":1},\"geo\":{\"bgcolor\":\"white\",\"landcolor\":\"#E5ECF6\",\"subunitcolor\":\"white\",\"showland\":true,\"showlakes\":true,\"lakecolor\":\"white\"},\"title\":{\"x\":0.05},\"mapbox\":{\"style\":\"light\"}}},\"coloraxis\":{\"colorscale\":[[0.0,\"#440154\"],[0.1111111111111111,\"#482878\"],[0.2222222222222222,\"#3e4989\"],[0.3333333333333333,\"#31688e\"],[0.4444444444444444,\"#26828e\"],[0.5555555555555556,\"#1f9e89\"],[0.6666666666666666,\"#35b779\"],[0.7777777777777778,\"#6ece58\"],[0.8888888888888888,\"#b5de2b\"],[1.0,\"#fde725\"]],\"colorbar\":{\"title\":{\"text\":\"Cluster\"}}},\"title\":{\"text\":\"KMeans Plot(Manages relation)\"},\"xaxis\":{\"title\":{\"text\":\"Page Rank\"}},\"yaxis\":{\"title\":{\"text\":\"Rating\"}}},                        {\"responsive\": true}                    ).then(function(){\n",
              "                            \n",
              "var gd = document.getElementById('a42f30dd-3bb7-4643-9f8b-44981195bd51');\n",
              "var x = new MutationObserver(function (mutations, observer) {{\n",
              "        var display = window.getComputedStyle(gd).display;\n",
              "        if (!display || display === 'none') {{\n",
              "            console.log([gd, 'removed!']);\n",
              "            Plotly.purge(gd);\n",
              "            observer.disconnect();\n",
              "        }}\n",
              "}});\n",
              "\n",
              "// Listen for the removal of the full notebook cells\n",
              "var notebookContainer = gd.closest('#notebook-container');\n",
              "if (notebookContainer) {{\n",
              "    x.observe(notebookContainer, {childList: true});\n",
              "}}\n",
              "\n",
              "// Listen for the clearing of the current output cell\n",
              "var outputEl = gd.closest('.output');\n",
              "if (outputEl) {{\n",
              "    x.observe(outputEl, {childList: true});\n",
              "}}\n",
              "\n",
              "                        })                };                            </script>        </div>\n",
              "</body>\n",
              "</html>"
            ]
          },
          "metadata": {}
        }
      ]
    },
    {
      "cell_type": "code",
      "source": [
        "# Plotting the kmeans clusters\n",
        "import plotly.graph_objects as go\n",
        "\n",
        "# Extracting cluster assignments\n",
        "cluster_assignments = results.select('prediction').rdd.map(lambda row: row[0]).collect()\n",
        "\n",
        "# Extracting features for plotting\n",
        "features = newdata.select('all_features').rdd.map(lambda row: row[0]).collect()\n",
        "\n",
        "# Unpacking features into separate lists for x and y axes\n",
        "x_values = [feat[0] for feat in features]\n",
        "y_values = [feat[1] for feat in features]\n",
        "\n",
        "# Create scatter plot\n",
        "fig = go.Figure(data=go.Scattergl(x=x_values, y=y_values, mode='markers', marker=dict(color=cluster_assignments, colorscale='viridis')))\n",
        "\n",
        "# Update layout\n",
        "fig.update_layout(title='KMeans Plot-buys relation',\n",
        "                  xaxis_title='Page Rank',\n",
        "                  yaxis_title='Rating',\n",
        "                  coloraxis=dict(colorscale='viridis', colorbar=dict(title='Cluster')))\n",
        "\n",
        "# Show plot\n",
        "fig.show()\n"
      ],
      "metadata": {
        "colab": {
          "base_uri": "https://localhost:8080/",
          "height": 542
        },
        "id": "uz2R43r2TOIS",
        "outputId": "a24cce6c-20b2-4d5f-ab17-c47c4fdf75c4"
      },
      "execution_count": 56,
      "outputs": [
        {
          "output_type": "display_data",
          "data": {
            "text/html": [
              "<html>\n",
              "<head><meta charset=\"utf-8\" /></head>\n",
              "<body>\n",
              "    <div>            <script src=\"https://cdnjs.cloudflare.com/ajax/libs/mathjax/2.7.5/MathJax.js?config=TeX-AMS-MML_SVG\"></script><script type=\"text/javascript\">if (window.MathJax && window.MathJax.Hub && window.MathJax.Hub.Config) {window.MathJax.Hub.Config({SVG: {font: \"STIX-Web\"}});}</script>                <script type=\"text/javascript\">window.PlotlyConfig = {MathJaxConfig: 'local'};</script>\n",
              "        <script charset=\"utf-8\" src=\"https://cdn.plot.ly/plotly-2.24.1.min.js\"></script>                <div id=\"9f5ed9fc-0ecc-4e4e-9258-1a63c380a6c8\" class=\"plotly-graph-div\" style=\"height:525px; width:100%;\"></div>            <script type=\"text/javascript\">                                    window.PLOTLYENV=window.PLOTLYENV || {};                                    if (document.getElementById(\"9f5ed9fc-0ecc-4e4e-9258-1a63c380a6c8\")) {                    Plotly.newPlot(                        \"9f5ed9fc-0ecc-4e4e-9258-1a63c380a6c8\",                        [{\"marker\":{\"color\":[4,4,4,4,4,2,2,2,2,2,2,2,2,2,2,2,2,2,2,2,2,2,2,2,2,2,2,2,2,3,3,3,3,3,3,3,3,3,3,3,3,3,3,3,3,3,3,3,3,3,3,3,3,3,3,3,3,3,3,3,3,3,3,3,3,3,3,3,3,3,3,3,3,3,3,3,3,3,3,3,3,3,3,3,3,3,3,3,3,3,3,3,3,3,3,3,3,3,3,3,3,3,3,1,3,3,3,3,3,3,3,3,3,3,1,3,3,3,3,3,3,3,0,3,0,3,0,3,0,1,3,3,0,3,0,1,3,1,0,0,0,1,1,0,1,0,1,1,1,1,1,1,0,0,1,0,1,1,1,1,1,1,0,0,1,0,1,1,1,0,1,0,1,1,0,0,0,0,0,0,0,0,1,1,0,0,0,0,1,1,0,0,0,0,0,1,0,1,0,1,0,1,0,0,0,0,0,0,0,0,1,1,0,0,0,1,0,1,0,1,0,0,0,0,1,1,1,1,1,0,0,0,1,0,0,0,0,0,1,1,0,0,1,1,1,1,0,0,0,0,1,0,0,0,1,1,1,0,1,1,1,0,1,1,0,1,1,0,0,0,0,0,1,1,1,1,0,1,1,1,1,0,0,1,1,1,0,1,1,0,0,1,1,1,0,0,1,0,0,1,0,0,1,0,1,0,1,0,0,0,1,0,1,1,0,1,1,0,0,1,0,0,0,1,0,0,1,0,1,1,0,0,1,1,1,0,1,0,0,0,1,0,0,1,0,0,1,1,0,1,0,0,0,1,0,0,0,0,1,1,0,1,0,0,0,0,1,0,0,0,0,1,0,0,0,1,1,0,0,1,1,1,1,0,0,1,0,1,1,1,1,1],\"colorscale\":[[0.0,\"#440154\"],[0.1111111111111111,\"#482878\"],[0.2222222222222222,\"#3e4989\"],[0.3333333333333333,\"#31688e\"],[0.4444444444444444,\"#26828e\"],[0.5555555555555556,\"#1f9e89\"],[0.6666666666666666,\"#35b779\"],[0.7777777777777778,\"#6ece58\"],[0.8888888888888888,\"#b5de2b\"],[1.0,\"#fde725\"]]},\"mode\":\"markers\",\"x\":[14.036168656614949,14.036168656614949,14.036168656614949,14.036168656614949,14.036168656614949,11.361609807300171,11.361609807300171,11.361609807300171,11.358469492346893,9.314862111594387,9.314862111594387,9.314862111594387,8.934199749365282,8.934199749365282,8.934199749365282,8.934199749365282,8.630717578208252,8.630717578208252,8.630717578208252,8.269886818609974,7.978091233052873,7.978091233052873,7.978091233052873,7.96861407927161,7.96861407927161,7.96861407927161,7.96861407927161,7.885009739966228,7.885009739966228,6.9300302284726865,6.70673022652916,6.70673022652916,6.70673022652916,6.644861902845732,6.644861902845732,6.644861902845732,6.644861902845732,6.644861902845732,6.644861902845732,6.533074969978541,6.533074969978541,6.257346013964667,6.257346013964667,6.257346013964667,6.246651819386722,6.246651819386722,6.068394813226532,6.068394813226532,6.068394813226532,5.961323098361945,5.931271079472601,5.931271079472601,5.931271079472601,5.931271079472601,5.808614259200488,5.808614259200488,5.808614259200488,5.568868304153968,5.568868304153968,5.568868304153968,5.525233064563602,5.525233064563602,5.3755674192649705,5.3755674192649705,5.3755674192649705,5.3755674192649705,5.3755674192649705,5.3755674192649705,5.3755674192649705,5.284621318027851,5.284621318027851,5.284621318027851,5.284621318027851,5.284621318027851,5.111286606741996,5.111286606741996,5.111286606741996,5.096528758291276,5.096528758291276,4.749431925008053,4.749431925008053,4.749431925008053,4.749431925008053,4.749431925008053,4.749431925008053,4.685499048288707,4.685499048288707,4.685499048288707,4.685499048288707,4.685499048288707,4.685499048288707,4.685499048288707,4.49588539514854,4.49588539514854,4.49588539514854,4.291087774027187,4.291087774027187,4.291087774027187,4.291087774027187,4.256164817757817,4.122299258689699,4.122299258689699,4.122299258689699,4.120532362079491,4.120532362079491,4.120532362079491,4.120532362079491,4.120532362079491,4.025463008618145,4.025463008618145,4.025463008618145,4.025463008618145,3.9798801417616256,3.9798801417616256,3.9798801417616256,3.9790534413117853,3.9790534413117853,3.9790534413117853,3.7895715452505416,3.7895715452505416,3.7895715452505416,3.7895715452505416,3.741958378337426,3.741958378337426,3.5387681203208627,3.5387681203208627,3.5387681203208627,3.5387681203208627,3.528028390716021,3.528028390716021,3.528028390716021,3.528028390716021,3.528028390716021,3.528028390716021,3.471200265935021,3.471200265935021,3.471200265935021,3.471200265935021,3.471200265935021,3.471200265935021,3.471200265935021,3.4051099241116587,3.4051099241116587,3.4051099241116587,3.4051099241116587,3.3597999558245766,3.3597999558245766,3.3597999558245766,3.351797302438651,3.2700808125152823,3.253419119733851,3.193672369225826,3.193672369225826,3.1892747298631225,3.1892747298631225,3.1892747298631225,3.1868815449133128,3.1868815449133128,3.1868815449133128,3.1303473067238445,3.1303473067238445,3.1303473067238445,3.1303473067238445,3.1303473067238445,3.1212506039473498,3.1212506039473498,3.1212506039473498,3.1212506039473498,3.1212506039473498,3.1212506039473498,3.0780230284478076,3.0780230284478076,3.0780230284478076,3.0566788771679843,3.0566788771679843,3.0566788771679843,3.0460389347856665,3.0460389347856665,3.0460389347856665,3.011941188984398,3.011941188984398,3.011941188984398,3.011941188984398,3.011941188984398,3.011941188984398,2.9905511311795423,2.972192508361691,2.972192508361691,2.972192508361691,2.969616578365654,2.8878439682527004,2.8878439682527004,2.8878439682527004,2.8345488164235273,2.8345488164235273,2.8045427105724277,2.8045427105724277,2.7407734187228816,2.7407734187228816,2.7407734187228816,2.703123306715855,2.703123306715855,2.703123306715855,2.6468212417070447,2.6468212417070447,2.6468212417070447,2.6468212417070447,2.6468212417070447,2.6468212417070447,2.6468212417070447,2.618326262203684,2.618326262203684,2.618326262203684,2.618326262203684,2.563582888368682,2.563582888368682,2.563582888368682,2.511012569724507,2.511012569724507,2.511012569724507,2.4971537907629795,2.4971537907629795,2.4971537907629795,2.4971537907629795,2.413564636657518,2.413564636657518,2.413564636657518,2.413564636657518,2.4051925090027733,2.3918797315243903,2.3836727766151578,2.3836727766151578,2.3836727766151578,2.3836727766151578,2.3648032337222604,2.3648032337222604,2.3648032337222604,2.3648032337222604,2.3624205336697615,2.3624205336697615,2.3624205336697615,2.3624205336697615,2.3624205336697615,2.3624205336697615,2.3624205336697615,2.3624205336697615,2.357044950824891,2.357044950824891,2.2956394874098303,2.2956394874098303,2.2956394874098303,2.2956394874098303,2.2956394874098303,2.2956394874098303,2.2956394874098303,2.2956394874098303,2.276087691547294,2.276087691547294,2.275757348580003,2.275757348580003,2.2641714771251418,2.2641714771251418,2.2457472460090737,2.1787069795282363,2.1787069795282363,2.1787069795282363,2.1191953626090534,2.1191953626090534,2.103478673756839,2.09173698763858,2.09173698763858,2.09173698763858,2.09173698763858,2.0676181356477574,2.0676181356477574,1.9517835721245753,1.9517835721245753,1.9517835721245753,1.9013355922054898,1.8465895615582602,1.8465895615582602,1.8228485316185843,1.7266528495020834,1.7266528495020834,1.7266528495020834,1.7266528495020834,1.6375299892614705,1.6375299892614705,1.6375299892614705,1.6375299892614705,1.5792137735575877,1.5792137735575877,1.5792137735575877,1.536207038269994,1.536207038269994,1.536207038269994,1.536207038269994,1.536207038269994,1.536207038269994,1.536207038269994,1.536207038269994,1.4692332852502843,1.4692332852502843,1.4516705998286228,1.4516705998286228,1.4516705998286228,1.4516705998286228,1.4185683905326445,1.3977916678085225,1.3977916678085225,1.3977916678085225,1.3700241698712599,1.3700241698712599,1.344706048271597,1.344706048271597,1.3186815773246208,1.3186815773246208,1.2234681003346366,1.2065337215728515,1.2065337215728515,1.2065337215728515,1.1935495084335477,1.1935495084335477,1.1935495084335477,1.1781521834683544,1.1781521834683544,1.1781521834683544,1.1759382744340436,1.1633823462994877,1.1633823462994877,1.1577868067393822,1.1577868067393822,1.1577868067393822,1.1577868067393822,1.1054291224606916,1.1054291224606916,1.1054291224606916,1.1054291224606916,1.0191687500006228,1.0191687500006228,0.8998005574867503,0.7560538221101256,0.7560538221101256,0.7560538221101256,0.7066159729628539,0.7066159729628539,0.7066159729628539,0.6942478595667699,0.6942478595667699,0.6942478595667699,0.6942478595667699,0.6942478595667699,0.6942478595667699,0.6942478595667699,0.6722254991240776,0.6722254991240776,0.6722254991240776,0.6722254991240776,0.6722254991240776,0.6722254991240776,0.6722254991240776,0.6251453601358895,0.6251453601358895,0.5692268940592002,0.5692268940592002,0.5692268940592002,0.5692268940592002,0.5692268940592002,0.5355276860262287,0.5355276860262287,0.44739129578614883,0.44739129578614883,0.44739129578614883,0.4214688280684783,0.4214688280684783,0.4214688280684783,0.4214688280684783,0.4173712162775558,0.4173712162775558,0.4173712162775558,0.4173712162775558,0.4173712162775558,0.4173712162775558,0.4173712162775558,0.4173712162775558,0.4173712162775558,0.3997766602016867,0.3997766602016867,0.3997766602016867,0.3997766602016867,0.3997766602016867,0.3997766602016867],\"y\":[4.0,3.0,3.0,2.0,5.0,5.0,3.0,3.0,3.0,2.0,3.0,3.0,3.0,2.0,4.0,3.0,4.0,2.0,4.0,5.0,2.0,3.0,4.0,2.0,5.0,5.0,1.0,3.0,4.0,3.0,2.0,2.0,5.0,1.0,3.0,1.0,4.0,3.0,2.0,5.0,5.0,4.0,4.0,3.0,1.0,1.0,5.0,3.0,2.0,1.0,5.0,1.0,2.0,5.0,2.0,4.0,5.0,4.0,2.0,3.0,4.0,5.0,2.0,3.0,1.0,1.0,3.0,2.0,5.0,4.0,3.0,3.0,3.0,4.0,2.0,4.0,4.0,4.0,1.0,2.0,5.0,1.0,2.0,4.0,4.0,1.0,3.0,4.0,2.0,4.0,2.0,3.0,1.0,2.0,3.0,5.0,2.0,2.0,1.0,4.0,3.0,2.0,1.0,5.0,1.0,2.0,1.0,4.0,4.0,2.0,4.0,1.0,4.0,3.0,5.0,3.0,1.0,2.0,4.0,4.0,2.0,2.0,1.0,3.0,2.0,3.0,2.0,3.0,2.0,5.0,3.0,3.0,1.0,3.0,2.0,5.0,3.0,5.0,2.0,2.0,2.0,4.0,5.0,1.0,5.0,1.0,4.0,4.0,5.0,4.0,5.0,4.0,3.0,1.0,5.0,2.0,5.0,5.0,5.0,5.0,5.0,4.0,2.0,2.0,5.0,1.0,4.0,4.0,4.0,3.0,4.0,2.0,4.0,5.0,2.0,2.0,1.0,1.0,3.0,2.0,1.0,3.0,4.0,4.0,3.0,2.0,3.0,2.0,4.0,5.0,3.0,3.0,2.0,3.0,2.0,5.0,2.0,5.0,3.0,5.0,3.0,5.0,1.0,1.0,2.0,3.0,2.0,2.0,1.0,3.0,4.0,5.0,1.0,2.0,3.0,4.0,2.0,5.0,3.0,5.0,1.0,3.0,1.0,1.0,5.0,4.0,5.0,5.0,5.0,1.0,1.0,3.0,5.0,3.0,3.0,2.0,1.0,2.0,5.0,5.0,3.0,3.0,5.0,5.0,4.0,4.0,1.0,3.0,3.0,3.0,4.0,1.0,3.0,1.0,4.0,5.0,4.0,1.0,5.0,5.0,4.0,2.0,4.0,4.0,3.0,5.0,4.0,1.0,2.0,2.0,2.0,1.0,5.0,5.0,4.0,4.0,2.0,5.0,4.0,4.0,4.0,2.0,3.0,4.0,5.0,5.0,1.0,4.0,4.0,1.0,1.0,4.0,4.0,5.0,3.0,3.0,4.0,2.0,3.0,4.0,1.0,1.0,5.0,2.0,4.0,3.0,4.0,1.0,3.0,2.0,5.0,2.0,5.0,5.0,2.0,5.0,4.0,2.0,3.0,5.0,1.0,3.0,1.0,5.0,2.0,2.0,5.0,1.0,5.0,5.0,3.0,1.0,5.0,5.0,4.0,3.0,4.0,1.0,3.0,1.0,5.0,1.0,2.0,4.0,2.0,1.0,5.0,5.0,3.0,4.0,2.0,2.0,2.0,5.0,2.0,1.0,3.0,1.0,5.0,4.0,2.0,4.0,1.0,2.0,2.0,3.0,5.0,1.0,3.0,2.0,3.0,5.0,2.0,2.0,2.0,5.0,4.0,3.0,1.0,4.0,4.0,5.0,4.0,2.0,3.0,5.0,1.0,4.0,4.0,5.0,5.0,4.0],\"type\":\"scattergl\"}],                        {\"template\":{\"data\":{\"histogram2dcontour\":[{\"type\":\"histogram2dcontour\",\"colorbar\":{\"outlinewidth\":0,\"ticks\":\"\"},\"colorscale\":[[0.0,\"#0d0887\"],[0.1111111111111111,\"#46039f\"],[0.2222222222222222,\"#7201a8\"],[0.3333333333333333,\"#9c179e\"],[0.4444444444444444,\"#bd3786\"],[0.5555555555555556,\"#d8576b\"],[0.6666666666666666,\"#ed7953\"],[0.7777777777777778,\"#fb9f3a\"],[0.8888888888888888,\"#fdca26\"],[1.0,\"#f0f921\"]]}],\"choropleth\":[{\"type\":\"choropleth\",\"colorbar\":{\"outlinewidth\":0,\"ticks\":\"\"}}],\"histogram2d\":[{\"type\":\"histogram2d\",\"colorbar\":{\"outlinewidth\":0,\"ticks\":\"\"},\"colorscale\":[[0.0,\"#0d0887\"],[0.1111111111111111,\"#46039f\"],[0.2222222222222222,\"#7201a8\"],[0.3333333333333333,\"#9c179e\"],[0.4444444444444444,\"#bd3786\"],[0.5555555555555556,\"#d8576b\"],[0.6666666666666666,\"#ed7953\"],[0.7777777777777778,\"#fb9f3a\"],[0.8888888888888888,\"#fdca26\"],[1.0,\"#f0f921\"]]}],\"heatmap\":[{\"type\":\"heatmap\",\"colorbar\":{\"outlinewidth\":0,\"ticks\":\"\"},\"colorscale\":[[0.0,\"#0d0887\"],[0.1111111111111111,\"#46039f\"],[0.2222222222222222,\"#7201a8\"],[0.3333333333333333,\"#9c179e\"],[0.4444444444444444,\"#bd3786\"],[0.5555555555555556,\"#d8576b\"],[0.6666666666666666,\"#ed7953\"],[0.7777777777777778,\"#fb9f3a\"],[0.8888888888888888,\"#fdca26\"],[1.0,\"#f0f921\"]]}],\"heatmapgl\":[{\"type\":\"heatmapgl\",\"colorbar\":{\"outlinewidth\":0,\"ticks\":\"\"},\"colorscale\":[[0.0,\"#0d0887\"],[0.1111111111111111,\"#46039f\"],[0.2222222222222222,\"#7201a8\"],[0.3333333333333333,\"#9c179e\"],[0.4444444444444444,\"#bd3786\"],[0.5555555555555556,\"#d8576b\"],[0.6666666666666666,\"#ed7953\"],[0.7777777777777778,\"#fb9f3a\"],[0.8888888888888888,\"#fdca26\"],[1.0,\"#f0f921\"]]}],\"contourcarpet\":[{\"type\":\"contourcarpet\",\"colorbar\":{\"outlinewidth\":0,\"ticks\":\"\"}}],\"contour\":[{\"type\":\"contour\",\"colorbar\":{\"outlinewidth\":0,\"ticks\":\"\"},\"colorscale\":[[0.0,\"#0d0887\"],[0.1111111111111111,\"#46039f\"],[0.2222222222222222,\"#7201a8\"],[0.3333333333333333,\"#9c179e\"],[0.4444444444444444,\"#bd3786\"],[0.5555555555555556,\"#d8576b\"],[0.6666666666666666,\"#ed7953\"],[0.7777777777777778,\"#fb9f3a\"],[0.8888888888888888,\"#fdca26\"],[1.0,\"#f0f921\"]]}],\"surface\":[{\"type\":\"surface\",\"colorbar\":{\"outlinewidth\":0,\"ticks\":\"\"},\"colorscale\":[[0.0,\"#0d0887\"],[0.1111111111111111,\"#46039f\"],[0.2222222222222222,\"#7201a8\"],[0.3333333333333333,\"#9c179e\"],[0.4444444444444444,\"#bd3786\"],[0.5555555555555556,\"#d8576b\"],[0.6666666666666666,\"#ed7953\"],[0.7777777777777778,\"#fb9f3a\"],[0.8888888888888888,\"#fdca26\"],[1.0,\"#f0f921\"]]}],\"mesh3d\":[{\"type\":\"mesh3d\",\"colorbar\":{\"outlinewidth\":0,\"ticks\":\"\"}}],\"scatter\":[{\"fillpattern\":{\"fillmode\":\"overlay\",\"size\":10,\"solidity\":0.2},\"type\":\"scatter\"}],\"parcoords\":[{\"type\":\"parcoords\",\"line\":{\"colorbar\":{\"outlinewidth\":0,\"ticks\":\"\"}}}],\"scatterpolargl\":[{\"type\":\"scatterpolargl\",\"marker\":{\"colorbar\":{\"outlinewidth\":0,\"ticks\":\"\"}}}],\"bar\":[{\"error_x\":{\"color\":\"#2a3f5f\"},\"error_y\":{\"color\":\"#2a3f5f\"},\"marker\":{\"line\":{\"color\":\"#E5ECF6\",\"width\":0.5},\"pattern\":{\"fillmode\":\"overlay\",\"size\":10,\"solidity\":0.2}},\"type\":\"bar\"}],\"scattergeo\":[{\"type\":\"scattergeo\",\"marker\":{\"colorbar\":{\"outlinewidth\":0,\"ticks\":\"\"}}}],\"scatterpolar\":[{\"type\":\"scatterpolar\",\"marker\":{\"colorbar\":{\"outlinewidth\":0,\"ticks\":\"\"}}}],\"histogram\":[{\"marker\":{\"pattern\":{\"fillmode\":\"overlay\",\"size\":10,\"solidity\":0.2}},\"type\":\"histogram\"}],\"scattergl\":[{\"type\":\"scattergl\",\"marker\":{\"colorbar\":{\"outlinewidth\":0,\"ticks\":\"\"}}}],\"scatter3d\":[{\"type\":\"scatter3d\",\"line\":{\"colorbar\":{\"outlinewidth\":0,\"ticks\":\"\"}},\"marker\":{\"colorbar\":{\"outlinewidth\":0,\"ticks\":\"\"}}}],\"scattermapbox\":[{\"type\":\"scattermapbox\",\"marker\":{\"colorbar\":{\"outlinewidth\":0,\"ticks\":\"\"}}}],\"scatterternary\":[{\"type\":\"scatterternary\",\"marker\":{\"colorbar\":{\"outlinewidth\":0,\"ticks\":\"\"}}}],\"scattercarpet\":[{\"type\":\"scattercarpet\",\"marker\":{\"colorbar\":{\"outlinewidth\":0,\"ticks\":\"\"}}}],\"carpet\":[{\"aaxis\":{\"endlinecolor\":\"#2a3f5f\",\"gridcolor\":\"white\",\"linecolor\":\"white\",\"minorgridcolor\":\"white\",\"startlinecolor\":\"#2a3f5f\"},\"baxis\":{\"endlinecolor\":\"#2a3f5f\",\"gridcolor\":\"white\",\"linecolor\":\"white\",\"minorgridcolor\":\"white\",\"startlinecolor\":\"#2a3f5f\"},\"type\":\"carpet\"}],\"table\":[{\"cells\":{\"fill\":{\"color\":\"#EBF0F8\"},\"line\":{\"color\":\"white\"}},\"header\":{\"fill\":{\"color\":\"#C8D4E3\"},\"line\":{\"color\":\"white\"}},\"type\":\"table\"}],\"barpolar\":[{\"marker\":{\"line\":{\"color\":\"#E5ECF6\",\"width\":0.5},\"pattern\":{\"fillmode\":\"overlay\",\"size\":10,\"solidity\":0.2}},\"type\":\"barpolar\"}],\"pie\":[{\"automargin\":true,\"type\":\"pie\"}]},\"layout\":{\"autotypenumbers\":\"strict\",\"colorway\":[\"#636efa\",\"#EF553B\",\"#00cc96\",\"#ab63fa\",\"#FFA15A\",\"#19d3f3\",\"#FF6692\",\"#B6E880\",\"#FF97FF\",\"#FECB52\"],\"font\":{\"color\":\"#2a3f5f\"},\"hovermode\":\"closest\",\"hoverlabel\":{\"align\":\"left\"},\"paper_bgcolor\":\"white\",\"plot_bgcolor\":\"#E5ECF6\",\"polar\":{\"bgcolor\":\"#E5ECF6\",\"angularaxis\":{\"gridcolor\":\"white\",\"linecolor\":\"white\",\"ticks\":\"\"},\"radialaxis\":{\"gridcolor\":\"white\",\"linecolor\":\"white\",\"ticks\":\"\"}},\"ternary\":{\"bgcolor\":\"#E5ECF6\",\"aaxis\":{\"gridcolor\":\"white\",\"linecolor\":\"white\",\"ticks\":\"\"},\"baxis\":{\"gridcolor\":\"white\",\"linecolor\":\"white\",\"ticks\":\"\"},\"caxis\":{\"gridcolor\":\"white\",\"linecolor\":\"white\",\"ticks\":\"\"}},\"coloraxis\":{\"colorbar\":{\"outlinewidth\":0,\"ticks\":\"\"}},\"colorscale\":{\"sequential\":[[0.0,\"#0d0887\"],[0.1111111111111111,\"#46039f\"],[0.2222222222222222,\"#7201a8\"],[0.3333333333333333,\"#9c179e\"],[0.4444444444444444,\"#bd3786\"],[0.5555555555555556,\"#d8576b\"],[0.6666666666666666,\"#ed7953\"],[0.7777777777777778,\"#fb9f3a\"],[0.8888888888888888,\"#fdca26\"],[1.0,\"#f0f921\"]],\"sequentialminus\":[[0.0,\"#0d0887\"],[0.1111111111111111,\"#46039f\"],[0.2222222222222222,\"#7201a8\"],[0.3333333333333333,\"#9c179e\"],[0.4444444444444444,\"#bd3786\"],[0.5555555555555556,\"#d8576b\"],[0.6666666666666666,\"#ed7953\"],[0.7777777777777778,\"#fb9f3a\"],[0.8888888888888888,\"#fdca26\"],[1.0,\"#f0f921\"]],\"diverging\":[[0,\"#8e0152\"],[0.1,\"#c51b7d\"],[0.2,\"#de77ae\"],[0.3,\"#f1b6da\"],[0.4,\"#fde0ef\"],[0.5,\"#f7f7f7\"],[0.6,\"#e6f5d0\"],[0.7,\"#b8e186\"],[0.8,\"#7fbc41\"],[0.9,\"#4d9221\"],[1,\"#276419\"]]},\"xaxis\":{\"gridcolor\":\"white\",\"linecolor\":\"white\",\"ticks\":\"\",\"title\":{\"standoff\":15},\"zerolinecolor\":\"white\",\"automargin\":true,\"zerolinewidth\":2},\"yaxis\":{\"gridcolor\":\"white\",\"linecolor\":\"white\",\"ticks\":\"\",\"title\":{\"standoff\":15},\"zerolinecolor\":\"white\",\"automargin\":true,\"zerolinewidth\":2},\"scene\":{\"xaxis\":{\"backgroundcolor\":\"#E5ECF6\",\"gridcolor\":\"white\",\"linecolor\":\"white\",\"showbackground\":true,\"ticks\":\"\",\"zerolinecolor\":\"white\",\"gridwidth\":2},\"yaxis\":{\"backgroundcolor\":\"#E5ECF6\",\"gridcolor\":\"white\",\"linecolor\":\"white\",\"showbackground\":true,\"ticks\":\"\",\"zerolinecolor\":\"white\",\"gridwidth\":2},\"zaxis\":{\"backgroundcolor\":\"#E5ECF6\",\"gridcolor\":\"white\",\"linecolor\":\"white\",\"showbackground\":true,\"ticks\":\"\",\"zerolinecolor\":\"white\",\"gridwidth\":2}},\"shapedefaults\":{\"line\":{\"color\":\"#2a3f5f\"}},\"annotationdefaults\":{\"arrowcolor\":\"#2a3f5f\",\"arrowhead\":0,\"arrowwidth\":1},\"geo\":{\"bgcolor\":\"white\",\"landcolor\":\"#E5ECF6\",\"subunitcolor\":\"white\",\"showland\":true,\"showlakes\":true,\"lakecolor\":\"white\"},\"title\":{\"x\":0.05},\"mapbox\":{\"style\":\"light\"}}},\"coloraxis\":{\"colorscale\":[[0.0,\"#440154\"],[0.1111111111111111,\"#482878\"],[0.2222222222222222,\"#3e4989\"],[0.3333333333333333,\"#31688e\"],[0.4444444444444444,\"#26828e\"],[0.5555555555555556,\"#1f9e89\"],[0.6666666666666666,\"#35b779\"],[0.7777777777777778,\"#6ece58\"],[0.8888888888888888,\"#b5de2b\"],[1.0,\"#fde725\"]],\"colorbar\":{\"title\":{\"text\":\"Cluster\"}}},\"title\":{\"text\":\"KMeans Plot-buys relation\"},\"xaxis\":{\"title\":{\"text\":\"Page Rank\"}},\"yaxis\":{\"title\":{\"text\":\"Rating\"}}},                        {\"responsive\": true}                    ).then(function(){\n",
              "                            \n",
              "var gd = document.getElementById('9f5ed9fc-0ecc-4e4e-9258-1a63c380a6c8');\n",
              "var x = new MutationObserver(function (mutations, observer) {{\n",
              "        var display = window.getComputedStyle(gd).display;\n",
              "        if (!display || display === 'none') {{\n",
              "            console.log([gd, 'removed!']);\n",
              "            Plotly.purge(gd);\n",
              "            observer.disconnect();\n",
              "        }}\n",
              "}});\n",
              "\n",
              "// Listen for the removal of the full notebook cells\n",
              "var notebookContainer = gd.closest('#notebook-container');\n",
              "if (notebookContainer) {{\n",
              "    x.observe(notebookContainer, {childList: true});\n",
              "}}\n",
              "\n",
              "// Listen for the clearing of the current output cell\n",
              "var outputEl = gd.closest('.output');\n",
              "if (outputEl) {{\n",
              "    x.observe(outputEl, {childList: true});\n",
              "}}\n",
              "\n",
              "                        })                };                            </script>        </div>\n",
              "</body>\n",
              "</html>"
            ]
          },
          "metadata": {}
        }
      ]
    },
    {
      "cell_type": "markdown",
      "source": [
        "**Inference:**The purple cluster should mainly consist of customers who have placed very few orders from workers.As we progress towards the roght in the graph the number of customers will start reducing in the green cluster and number of workers in the cluster will increase.This will keep increasing as we keep going right and the blue and yellow cluster should predominantly consists of workers but the amount of customers in this cluster will get reduced."
      ],
      "metadata": {
        "id": "nSRvs8JuzlUD"
      }
    },
    {
      "cell_type": "markdown",
      "source": [
        "<h1><b>Collaborative Filtering</h1>"
      ],
      "metadata": {
        "id": "b_oXAWV2WiUP"
      }
    },
    {
      "cell_type": "code",
      "source": [
        "training=spark.read.csv(\"edges.csv\", header=True, inferSchema=True)\n",
        "training.show(3)\n",
        "test=spark.read.csv(\"test.csv\", header=True, inferSchema=True)\n",
        "test.show(3)"
      ],
      "metadata": {
        "colab": {
          "base_uri": "https://localhost:8080/"
        },
        "id": "6_cgTAH0TOFe",
        "outputId": "374db34f-dedf-4a01-ee2c-8a81f53c6a09"
      },
      "execution_count": 58,
      "outputs": [
        {
          "output_type": "stream",
          "name": "stdout",
          "text": [
            "+---+---+--------+----------+------+\n",
            "|src|dst|relation|      item|rating|\n",
            "+---+---+--------+----------+------+\n",
            "|257| 57|    buys|      pens|     2|\n",
            "|210|151|    buys|headphones|     1|\n",
            "|395|158|    buys|    laptop|     5|\n",
            "+---+---+--------+----------+------+\n",
            "only showing top 3 rows\n",
            "\n",
            "+---+------+\n",
            "|src|  item|\n",
            "+---+------+\n",
            "|176|  pens|\n",
            "|350| mouse|\n",
            "|405|laptop|\n",
            "+---+------+\n",
            "only showing top 3 rows\n",
            "\n"
          ]
        }
      ]
    },
    {
      "cell_type": "code",
      "source": [
        "from pyspark.ml.feature import StringIndexer\n",
        "str_idx=StringIndexer(inputCols=['item'], outputCols=['item_ID'], stringOrderType='alphabetAsc')\n",
        "newtraining=str_idx.fit(training).transform(training)\n",
        "newtraining.show(3)\n",
        "newtest=str_idx.fit(test).transform(test)\n",
        "newtest.show(3)"
      ],
      "metadata": {
        "colab": {
          "base_uri": "https://localhost:8080/"
        },
        "id": "RvxVs8xrUP0n",
        "outputId": "3cfee4ac-32cf-4a65-cb0d-238dc7eabf67"
      },
      "execution_count": 59,
      "outputs": [
        {
          "output_type": "stream",
          "name": "stdout",
          "text": [
            "+---+---+--------+----------+------+-------+\n",
            "|src|dst|relation|      item|rating|item_ID|\n",
            "+---+---+--------+----------+------+-------+\n",
            "|257| 57|    buys|      pens|     2|   10.0|\n",
            "|210|151|    buys|headphones|     1|    0.0|\n",
            "|395|158|    buys|    laptop|     5|    1.0|\n",
            "+---+---+--------+----------+------+-------+\n",
            "only showing top 3 rows\n",
            "\n",
            "+---+------+-------+\n",
            "|src|  item|item_ID|\n",
            "+---+------+-------+\n",
            "|176|  pens|    8.0|\n",
            "|350| mouse|    3.0|\n",
            "|405|laptop|    1.0|\n",
            "+---+------+-------+\n",
            "only showing top 3 rows\n",
            "\n"
          ]
        }
      ]
    },
    {
      "cell_type": "code",
      "source": [
        "#Creating recommendation system using alternating least squares\n",
        "from pyspark.ml.recommendation import ALS\n",
        "model=ALS(userCol='src', itemCol='item_ID', ratingCol='rating')\n",
        "\n",
        "newmodel=model.fit(newtraining)\n",
        "results=newmodel.transform(newtest)\n",
        "results.show(3)"
      ],
      "metadata": {
        "colab": {
          "base_uri": "https://localhost:8080/"
        },
        "id": "ZejPWgryUPyA",
        "outputId": "5f333658-818c-4ef9-834c-f4619b2f525f"
      },
      "execution_count": 61,
      "outputs": [
        {
          "output_type": "stream",
          "name": "stdout",
          "text": [
            "+---+---------+-------+----------+\n",
            "|src|     item|item_ID|prediction|\n",
            "+---+---------+-------+----------+\n",
            "|405|   laptop|    1.0| 2.8673477|\n",
            "|350|    mouse|    3.0| 1.7820501|\n",
            "|450|mouse pad|    4.0| 0.6581031|\n",
            "+---+---------+-------+----------+\n",
            "only showing top 3 rows\n",
            "\n"
          ]
        }
      ]
    },
    {
      "cell_type": "markdown",
      "source": [
        "<p>Utilizing collaborative filtering techniques enabled accurate prediction of customer preferences for items they hadn't previously purchased, facilitating personalized recommendations and enhancing the shopping experience.\n",
        "\n",
        "</p>"
      ],
      "metadata": {
        "id": "7aQb9kDeoLQ2"
      }
    },
    {
      "cell_type": "markdown",
      "source": [
        "<h1><b>Frequent Pattern Mining</h1>"
      ],
      "metadata": {
        "id": "_mZr-sRZW7ru"
      }
    },
    {
      "cell_type": "code",
      "source": [
        "#Preprocessing\n",
        "fpm1=spark.read.csv(\"items.csv\", header=True, inferSchema=True)\n",
        "fpm1.show(3, truncate=False)"
      ],
      "metadata": {
        "id": "o66yjOZxUPvv",
        "colab": {
          "base_uri": "https://localhost:8080/"
        },
        "outputId": "3e65e48a-b52d-4b4f-8021-88a4c7c0366a"
      },
      "execution_count": 63,
      "outputs": [
        {
          "output_type": "stream",
          "name": "stdout",
          "text": [
            "+-------------------------------+\n",
            "|item                           |\n",
            "+-------------------------------+\n",
            "|usb cable;paper weights;pencils|\n",
            "|paper clips;laptop;mouse pad   |\n",
            "|mouse;pencils;pens             |\n",
            "+-------------------------------+\n",
            "only showing top 3 rows\n",
            "\n"
          ]
        }
      ]
    },
    {
      "cell_type": "code",
      "source": [
        "type(fpm1)"
      ],
      "metadata": {
        "colab": {
          "base_uri": "https://localhost:8080/",
          "height": 186
        },
        "id": "KTt3T6pyXm7e",
        "outputId": "8d644bd5-19cd-494b-e498-69ed08ea59af"
      },
      "execution_count": 64,
      "outputs": [
        {
          "output_type": "execute_result",
          "data": {
            "text/plain": [
              "pyspark.sql.dataframe.DataFrame"
            ],
            "text/html": [
              "<div style=\"max-width:800px; border: 1px solid var(--colab-border-color);\"><style>\n",
              "      pre.function-repr-contents {\n",
              "        overflow-x: auto;\n",
              "        padding: 8px 12px;\n",
              "        max-height: 500px;\n",
              "      }\n",
              "\n",
              "      pre.function-repr-contents.function-repr-contents-collapsed {\n",
              "        cursor: pointer;\n",
              "        max-height: 100px;\n",
              "      }\n",
              "    </style>\n",
              "    <pre style=\"white-space: initial; background:\n",
              "         var(--colab-secondary-surface-color); padding: 8px 12px;\n",
              "         border-bottom: 1px solid var(--colab-border-color);\"><b>pyspark.sql.dataframe.DataFrame</b><br/>def __init__(jdf: JavaObject, sql_ctx: Union[&#x27;SQLContext&#x27;, &#x27;SparkSession&#x27;])</pre><pre class=\"function-repr-contents function-repr-contents-collapsed\" style=\"\"><a class=\"filepath\" style=\"display:none\" href=\"#\">/usr/local/lib/python3.10/dist-packages/pyspark/sql/dataframe.py</a>A distributed collection of data grouped into named columns.\n",
              "\n",
              ".. versionadded:: 1.3.0\n",
              "\n",
              ".. versionchanged:: 3.4.0\n",
              "    Supports Spark Connect.\n",
              "\n",
              "Examples\n",
              "--------\n",
              "A :class:`DataFrame` is equivalent to a relational table in Spark SQL,\n",
              "and can be created using various functions in :class:`SparkSession`:\n",
              "\n",
              "&gt;&gt;&gt; people = spark.createDataFrame([\n",
              "...     {&quot;deptId&quot;: 1, &quot;age&quot;: 40, &quot;name&quot;: &quot;Hyukjin Kwon&quot;, &quot;gender&quot;: &quot;M&quot;, &quot;salary&quot;: 50},\n",
              "...     {&quot;deptId&quot;: 1, &quot;age&quot;: 50, &quot;name&quot;: &quot;Takuya Ueshin&quot;, &quot;gender&quot;: &quot;M&quot;, &quot;salary&quot;: 100},\n",
              "...     {&quot;deptId&quot;: 2, &quot;age&quot;: 60, &quot;name&quot;: &quot;Xinrong Meng&quot;, &quot;gender&quot;: &quot;F&quot;, &quot;salary&quot;: 150},\n",
              "...     {&quot;deptId&quot;: 3, &quot;age&quot;: 20, &quot;name&quot;: &quot;Haejoon Lee&quot;, &quot;gender&quot;: &quot;M&quot;, &quot;salary&quot;: 200}\n",
              "... ])\n",
              "\n",
              "Once created, it can be manipulated using the various domain-specific-language\n",
              "(DSL) functions defined in: :class:`DataFrame`, :class:`Column`.\n",
              "\n",
              "To select a column from the :class:`DataFrame`, use the apply method:\n",
              "\n",
              "&gt;&gt;&gt; age_col = people.age\n",
              "\n",
              "A more concrete example:\n",
              "\n",
              "&gt;&gt;&gt; # To create DataFrame using SparkSession\n",
              "... department = spark.createDataFrame([\n",
              "...     {&quot;id&quot;: 1, &quot;name&quot;: &quot;PySpark&quot;},\n",
              "...     {&quot;id&quot;: 2, &quot;name&quot;: &quot;ML&quot;},\n",
              "...     {&quot;id&quot;: 3, &quot;name&quot;: &quot;Spark SQL&quot;}\n",
              "... ])\n",
              "\n",
              "&gt;&gt;&gt; people.filter(people.age &gt; 30).join(\n",
              "...     department, people.deptId == department.id).groupBy(\n",
              "...     department.name, &quot;gender&quot;).agg({&quot;salary&quot;: &quot;avg&quot;, &quot;age&quot;: &quot;max&quot;}).show()\n",
              "+-------+------+-----------+--------+\n",
              "|   name|gender|avg(salary)|max(age)|\n",
              "+-------+------+-----------+--------+\n",
              "|     ML|     F|      150.0|      60|\n",
              "|PySpark|     M|       75.0|      50|\n",
              "+-------+------+-----------+--------+\n",
              "\n",
              "Notes\n",
              "-----\n",
              "A DataFrame should only be created as described above. It should not be directly\n",
              "created via using the constructor.</pre>\n",
              "      <script>\n",
              "      if (google.colab.kernel.accessAllowed && google.colab.files && google.colab.files.view) {\n",
              "        for (const element of document.querySelectorAll('.filepath')) {\n",
              "          element.style.display = 'block'\n",
              "          element.onclick = (event) => {\n",
              "            event.preventDefault();\n",
              "            event.stopPropagation();\n",
              "            google.colab.files.view(element.textContent, 80);\n",
              "          };\n",
              "        }\n",
              "      }\n",
              "      for (const element of document.querySelectorAll('.function-repr-contents')) {\n",
              "        element.onclick = (event) => {\n",
              "          event.preventDefault();\n",
              "          event.stopPropagation();\n",
              "          element.classList.toggle('function-repr-contents-collapsed');\n",
              "        };\n",
              "      }\n",
              "      </script>\n",
              "      </div>"
            ]
          },
          "metadata": {},
          "execution_count": 64
        }
      ]
    },
    {
      "cell_type": "code",
      "source": [
        "print(\"Number of observations in dataset:\",fpm1.count())\n",
        "print(\"First few records:\\n\",fpm1.show(3,truncate=False))"
      ],
      "metadata": {
        "colab": {
          "base_uri": "https://localhost:8080/"
        },
        "id": "Lw2gzq02Xm0i",
        "outputId": "24676b4a-3a2b-4b1a-905a-fb229209c4ee"
      },
      "execution_count": 65,
      "outputs": [
        {
          "output_type": "stream",
          "name": "stdout",
          "text": [
            "Number of observations in dataset: 1750\n",
            "+-------------------------------+\n",
            "|item                           |\n",
            "+-------------------------------+\n",
            "|usb cable;paper weights;pencils|\n",
            "|paper clips;laptop;mouse pad   |\n",
            "|mouse;pencils;pens             |\n",
            "+-------------------------------+\n",
            "only showing top 3 rows\n",
            "\n",
            "First few records:\n",
            " None\n"
          ]
        }
      ]
    },
    {
      "cell_type": "code",
      "source": [
        "fpm1.dtypes"
      ],
      "metadata": {
        "colab": {
          "base_uri": "https://localhost:8080/"
        },
        "id": "OE_DjdQjXmx-",
        "outputId": "b3300d95-266c-4d5f-e35f-2765e8f46e45"
      },
      "execution_count": 66,
      "outputs": [
        {
          "output_type": "execute_result",
          "data": {
            "text/plain": [
              "[('item', 'string')]"
            ]
          },
          "metadata": {},
          "execution_count": 66
        }
      ]
    },
    {
      "cell_type": "markdown",
      "source": [
        "For further analysis into the Market Basket Analysis, the FPGrowth algorithms requires a list column."
      ],
      "metadata": {
        "id": "20NlLpwUodPT"
      }
    },
    {
      "cell_type": "code",
      "source": [
        "fpm2 = fpm1.select('item')"
      ],
      "metadata": {
        "id": "ZxUYIsbvXmvf"
      },
      "execution_count": 71,
      "outputs": []
    },
    {
      "cell_type": "code",
      "source": [
        "#Converting column into array\n",
        "from pyspark.sql.functions import split, col\n",
        "fpm3=fpm2.withColumn(\"item\", split(col(\"item\"), \";\"))"
      ],
      "metadata": {
        "id": "sNR-tmwQXmsu"
      },
      "execution_count": 72,
      "outputs": []
    },
    {
      "cell_type": "code",
      "source": [
        "fpm3.show(3,truncate=False)"
      ],
      "metadata": {
        "id": "X5BNHMoVUPtN",
        "colab": {
          "base_uri": "https://localhost:8080/"
        },
        "outputId": "c6347d1c-30b0-4953-dbf3-500e156d9f4f"
      },
      "execution_count": 73,
      "outputs": [
        {
          "output_type": "stream",
          "name": "stdout",
          "text": [
            "+-----------------------------------+\n",
            "|item                               |\n",
            "+-----------------------------------+\n",
            "|[usb cable, paper weights, pencils]|\n",
            "|[paper clips, laptop, mouse pad]   |\n",
            "|[mouse, pencils, pens]             |\n",
            "+-----------------------------------+\n",
            "only showing top 3 rows\n",
            "\n"
          ]
        }
      ]
    },
    {
      "cell_type": "code",
      "source": [
        "#Importing necessary libraries and creating an object\n",
        "from pyspark.ml.fpm import FPGrowth\n",
        "fpGrowth = FPGrowth(itemsCol=\"item\", minSupport=0.0001, minConfidence=0.0004)\n",
        "model = fpGrowth.fit(fpm3)\n",
        "itemsets=model.freqItemsets\n",
        "print(\"Number of observations in new data set:\",itemsets.count())\n",
        "print(itemsets.show(3,truncate=False))"
      ],
      "metadata": {
        "id": "aw91btUSUPqu",
        "colab": {
          "base_uri": "https://localhost:8080/"
        },
        "outputId": "2575243e-3529-4334-a1f6-75f551a07b3d"
      },
      "execution_count": 75,
      "outputs": [
        {
          "output_type": "stream",
          "name": "stdout",
          "text": [
            "Number of observations in new data set: 231\n",
            "+--------------------------------+----+\n",
            "|items                           |freq|\n",
            "+--------------------------------+----+\n",
            "|[paper weights]                 |460 |\n",
            "|[paper weights, mouse]          |89  |\n",
            "|[paper weights, mouse, stickers]|10  |\n",
            "+--------------------------------+----+\n",
            "only showing top 3 rows\n",
            "\n",
            "None\n"
          ]
        }
      ]
    },
    {
      "cell_type": "code",
      "source": [
        "# Display generated association rules.\n",
        "rules=model.associationRules\n",
        "rules.show(3,truncate=False)"
      ],
      "metadata": {
        "colab": {
          "base_uri": "https://localhost:8080/"
        },
        "id": "CFwI0kuNbFZ-",
        "outputId": "8a94d7d3-b53d-4b0a-aafe-ec18c8645567"
      },
      "execution_count": 80,
      "outputs": [
        {
          "output_type": "stream",
          "name": "stdout",
          "text": [
            "+---------------------+---------------+-------------------+-------------------+--------------------+\n",
            "|antecedent           |consequent     |confidence         |lift               |support             |\n",
            "+---------------------+---------------+-------------------+-------------------+--------------------+\n",
            "|[headphones, pencils]|[monitor]      |0.06153846153846154|0.33444816053511706|0.002285714285714286|\n",
            "|[headphones, pencils]|[paper weights]|0.13846153846153847|0.5267558528428095 |0.005142857142857143|\n",
            "|[headphones, pencils]|[usb cable]    |0.06153846153846154|0.23360587351910567|0.002285714285714286|\n",
            "+---------------------+---------------+-------------------+-------------------+--------------------+\n",
            "only showing top 3 rows\n",
            "\n"
          ]
        }
      ]
    },
    {
      "cell_type": "markdown",
      "source": [
        "Thershold lift is 1.1"
      ],
      "metadata": {
        "id": "xT_pu-tKo9nN"
      }
    },
    {
      "cell_type": "code",
      "source": [
        "rules1=rules.filter(rules['lift']>1.1)\n",
        "rules1.orderBy(\"support\", ascending=False).show(3)"
      ],
      "metadata": {
        "id": "x9d0wpwmbFW8",
        "colab": {
          "base_uri": "https://localhost:8080/"
        },
        "outputId": "3bc9460d-e2f7-47bc-a2f8-aac8a3e27aed"
      },
      "execution_count": 77,
      "outputs": [
        {
          "output_type": "stream",
          "name": "stdout",
          "text": [
            "+-------------+-------------+-------------------+------------------+-------------------+\n",
            "|   antecedent|   consequent|         confidence|              lift|            support|\n",
            "+-------------+-------------+-------------------+------------------+-------------------+\n",
            "|[paper clips]|   [stickers]|0.33816425120772947|1.1883281919950333|               0.12|\n",
            "|   [stickers]|[paper clips]|0.42168674698795183|1.1883281919950333|               0.12|\n",
            "|      [mouse]|  [mouse pad]| 0.3882113821138211|1.4454679121259297|0.10914285714285714|\n",
            "+-------------+-------------+-------------------+------------------+-------------------+\n",
            "only showing top 3 rows\n",
            "\n"
          ]
        }
      ]
    },
    {
      "cell_type": "markdown",
      "source": [
        "Confidence threshold=0.2 and support threshold=0.1"
      ],
      "metadata": {
        "id": "sypE7aSSpBwh"
      }
    },
    {
      "cell_type": "code",
      "source": [
        "rules2=rules.filter((rules['confidence']>0.2) | (rules['support']>0.1))\n",
        "rules2.orderBy(\"support\",ascending=False).show(3)"
      ],
      "metadata": {
        "colab": {
          "base_uri": "https://localhost:8080/"
        },
        "id": "7p-9M45BpBAQ",
        "outputId": "71045d91-fcdc-4ded-beb2-9fec7b5cce8d"
      },
      "execution_count": 78,
      "outputs": [
        {
          "output_type": "stream",
          "name": "stdout",
          "text": [
            "+-------------+-------------+-------------------+------------------+-------------------+\n",
            "|   antecedent|   consequent|         confidence|              lift|            support|\n",
            "+-------------+-------------+-------------------+------------------+-------------------+\n",
            "|[paper clips]|   [stickers]|0.33816425120772947|1.1883281919950333|               0.12|\n",
            "|   [stickers]|[paper clips]|0.42168674698795183|1.1883281919950333|               0.12|\n",
            "|  [mouse pad]|      [mouse]|0.40638297872340423|1.4454679121259297|0.10914285714285714|\n",
            "+-------------+-------------+-------------------+------------------+-------------------+\n",
            "only showing top 3 rows\n",
            "\n"
          ]
        }
      ]
    },
    {
      "cell_type": "markdown",
      "source": [
        "Confidence threshold=0.2 and lift threshold=0.1"
      ],
      "metadata": {
        "id": "9smMw50ipTqV"
      }
    },
    {
      "cell_type": "code",
      "source": [
        "rules3=rules.filter((rules['confidence']>0.2) & (rules['lift']>1.1))\n",
        "rules3.orderBy(\"lift\",ascending=False).show(3)"
      ],
      "metadata": {
        "colab": {
          "base_uri": "https://localhost:8080/"
        },
        "id": "6_7SHJbipGkr",
        "outputId": "e2f87e0d-a04e-4356-96f3-b58f74176497"
      },
      "execution_count": 79,
      "outputs": [
        {
          "output_type": "stream",
          "name": "stdout",
          "text": [
            "+-------------------+-----------+-------------------+------------------+--------------------+\n",
            "|         antecedent| consequent|         confidence|              lift|             support|\n",
            "+-------------------+-----------+-------------------+------------------+--------------------+\n",
            "|[headphones, mouse]|[mouse pad]|0.40298507462686567|1.5004763416957765|0.015428571428571429|\n",
            "|            [mouse]|[mouse pad]| 0.3882113821138211|1.4454679121259297| 0.10914285714285714|\n",
            "|        [mouse pad]|    [mouse]|0.40638297872340423|1.4454679121259297| 0.10914285714285714|\n",
            "+-------------------+-----------+-------------------+------------------+--------------------+\n",
            "only showing top 3 rows\n",
            "\n"
          ]
        }
      ]
    }
  ]
}